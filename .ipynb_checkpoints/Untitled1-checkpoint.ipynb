{
 "cells": [
  {
   "cell_type": "markdown",
   "metadata": {},
   "source": [
    "#Predict Loan\n",
    "\n",
    "#1. Import File"
   ]
  },
  {
   "cell_type": "code",
   "execution_count": 38,
   "metadata": {
    "collapsed": false
   },
   "outputs": [
    {
     "data": {
      "text/html": [
       "<div style=\"max-height:1000px;max-width:1500px;overflow:auto;\">\n",
       "<table border=\"1\" class=\"dataframe\">\n",
       "  <thead>\n",
       "    <tr style=\"text-align: right;\">\n",
       "      <th></th>\n",
       "      <th>Loan_ID</th>\n",
       "      <th>Gender</th>\n",
       "      <th>Married</th>\n",
       "      <th>Dependents</th>\n",
       "      <th>Education</th>\n",
       "      <th>Self_Employed</th>\n",
       "      <th>ApplicantIncome</th>\n",
       "      <th>CoapplicantIncome</th>\n",
       "      <th>LoanAmount</th>\n",
       "      <th>Loan_Amount_Term</th>\n",
       "      <th>Credit_History</th>\n",
       "      <th>Property_Area</th>\n",
       "      <th>Loan_Status</th>\n",
       "    </tr>\n",
       "  </thead>\n",
       "  <tbody>\n",
       "    <tr>\n",
       "      <th>0</th>\n",
       "      <td> LP001002</td>\n",
       "      <td> Male</td>\n",
       "      <td>  No</td>\n",
       "      <td> 0</td>\n",
       "      <td> Graduate</td>\n",
       "      <td> No</td>\n",
       "      <td> 5849</td>\n",
       "      <td>    0</td>\n",
       "      <td> NaN</td>\n",
       "      <td> 360</td>\n",
       "      <td> 1</td>\n",
       "      <td> Urban</td>\n",
       "      <td> Y</td>\n",
       "    </tr>\n",
       "    <tr>\n",
       "      <th>1</th>\n",
       "      <td> LP001003</td>\n",
       "      <td> Male</td>\n",
       "      <td> Yes</td>\n",
       "      <td> 1</td>\n",
       "      <td> Graduate</td>\n",
       "      <td> No</td>\n",
       "      <td> 4583</td>\n",
       "      <td> 1508</td>\n",
       "      <td> 128</td>\n",
       "      <td> 360</td>\n",
       "      <td> 1</td>\n",
       "      <td> Rural</td>\n",
       "      <td> N</td>\n",
       "    </tr>\n",
       "  </tbody>\n",
       "</table>\n",
       "</div>"
      ],
      "text/plain": [
       "    Loan_ID Gender Married Dependents Education Self_Employed  \\\n",
       "0  LP001002   Male      No          0  Graduate            No   \n",
       "1  LP001003   Male     Yes          1  Graduate            No   \n",
       "\n",
       "   ApplicantIncome  CoapplicantIncome  LoanAmount  Loan_Amount_Term  \\\n",
       "0             5849                  0         NaN               360   \n",
       "1             4583               1508         128               360   \n",
       "\n",
       "   Credit_History Property_Area Loan_Status  \n",
       "0               1         Urban           Y  \n",
       "1               1         Rural           N  "
      ]
     },
     "execution_count": 38,
     "metadata": {},
     "output_type": "execute_result"
    }
   ],
   "source": [
    "import plotly.plotly as py\n",
    "from plotly.grid_objs import Grid, Column\n",
    "from plotly.tools import FigureFactory as FF \n",
    "\n",
    "import pandas as pd\n",
    "import time\n",
    "import plotly\n",
    "\n",
    "\n",
    "df = pd.read_csv('train_loan.csv')\n",
    "\n",
    "# table = FF.create_table(df.head(10))\n",
    "# py.iplot(table, filename='Loan')\n",
    "\n",
    "df.head(2)"
   ]
  },
  {
   "cell_type": "markdown",
   "metadata": {},
   "source": [
    "#Data\n",
    "Variable       Description\n",
    "\n",
    "Loan_ID : Unique Loan ID\n",
    "\n",
    "Gender : Male/ Female\n",
    "\n",
    "Married : Applicant married (Y/N)\n",
    "\n",
    "Dependents : Number of dependents\n",
    "\n",
    "Education : Applicant Education (Graduate/ Under Graduate)\n",
    "\n",
    "Self_Employed : Self employed (Y/N)\n",
    "\n",
    "ApplicantIncome : Applicant income\n",
    "\n",
    "CoapplicantIncome : Coapplicant income\n",
    "\n",
    "LoanAmount : Loan amount in thousands\n",
    "\n",
    "Loan_Amount_Term : Term of loan in months\n",
    "\n",
    "Credit_History : credit history meets guidelines\n",
    "\n",
    "Property_Area : Urban/ Semi Urban/ Rural\n",
    "\n",
    "Loan_Status : Loan approved (Y/N)"
   ]
  },
  {
   "cell_type": "markdown",
   "metadata": {},
   "source": [
    "#Drop NaN"
   ]
  },
  {
   "cell_type": "code",
   "execution_count": 2,
   "metadata": {
    "collapsed": true
   },
   "outputs": [],
   "source": [
    "df=df.dropna()"
   ]
  },
  {
   "cell_type": "markdown",
   "metadata": {},
   "source": [
    "#Convert string to number"
   ]
  },
  {
   "cell_type": "code",
   "execution_count": 3,
   "metadata": {
    "collapsed": false
   },
   "outputs": [],
   "source": [
    "code={'N':0,'Y':1}\n",
    "for k,i in df.iterrows():\n",
    "    if i['Loan_Status']==i['Loan_Status']:\n",
    "        df.loc[k,\"Loan_Status\"]=code[i['Loan_Status']]"
   ]
  },
  {
   "cell_type": "code",
   "execution_count": 4,
   "metadata": {
    "collapsed": true
   },
   "outputs": [],
   "source": [
    "code={'Female':0,'Male':1}\n",
    "for k,i in df.iterrows():\n",
    "    df.loc[k,\"Gender\"]=code[i['Gender']]"
   ]
  },
  {
   "cell_type": "code",
   "execution_count": 5,
   "metadata": {
    "collapsed": true
   },
   "outputs": [],
   "source": [
    "code={'No':0,'Yes':1}\n",
    "for k,i in df.iterrows():\n",
    "    df.loc[k,\"Self_Employed\"]=code[i['Self_Employed']]"
   ]
  },
  {
   "cell_type": "code",
   "execution_count": 6,
   "metadata": {
    "collapsed": true
   },
   "outputs": [],
   "source": [
    "code={'Not Graduate':0,'Graduate':1}\n",
    "for k,i in df.iterrows():\n",
    "    df.loc[k,\"Education\"]=code[i['Education']]"
   ]
  },
  {
   "cell_type": "code",
   "execution_count": 7,
   "metadata": {
    "collapsed": true
   },
   "outputs": [],
   "source": [
    "code={'No':0,'Yes':1}\n",
    "for k,i in df.iterrows():\n",
    "    df.loc[k,\"Married\"]=code[i['Married']]"
   ]
  },
  {
   "cell_type": "code",
   "execution_count": 8,
   "metadata": {
    "collapsed": true
   },
   "outputs": [],
   "source": [
    "code={'Urban':2,'Semiurban':1,'Rural':0}\n",
    "for k,i in df.iterrows():\n",
    "    df.loc[k,\"Property_Area\"]=code[i['Property_Area']]"
   ]
  },
  {
   "cell_type": "code",
   "execution_count": 9,
   "metadata": {
    "collapsed": true
   },
   "outputs": [],
   "source": [
    "df.loc[df.Dependents == '3+', ['Dependents']] = 3"
   ]
  },
  {
   "cell_type": "markdown",
   "metadata": {},
   "source": [
    "#Drop Loan_ID"
   ]
  },
  {
   "cell_type": "code",
   "execution_count": 10,
   "metadata": {
    "collapsed": true
   },
   "outputs": [],
   "source": [
    "df2=df.drop(['Loan_ID'],1)"
   ]
  },
  {
   "cell_type": "code",
   "execution_count": 39,
   "metadata": {
    "collapsed": false
   },
   "outputs": [
    {
     "data": {
      "text/html": [
       "<iframe id=\"igraph\" scrolling=\"no\" style=\"border:none;\" seamless=\"seamless\" src=\"https://plot.ly/~KanekiKen/2.embed\" height=\"380px\" width=\"100%\"></iframe>"
      ],
      "text/plain": [
       "<plotly.tools.PlotlyDisplay object>"
      ]
     },
     "execution_count": 39,
     "metadata": {},
     "output_type": "execute_result"
    }
   ],
   "source": [
    "table = FF.create_table(df2.head(10))\n",
    "py.iplot(table, filename='Loan')"
   ]
  },
  {
   "cell_type": "markdown",
   "metadata": {},
   "source": [
    "#Plot graph to analyze"
   ]
  },
  {
   "cell_type": "code",
   "execution_count": 23,
   "metadata": {
    "collapsed": false
   },
   "outputs": [],
   "source": [
    "df3 = df2[df['Loan_Status']==1]\n",
    "df4 = df2[df['Loan_Status']==0]"
   ]
  },
  {
   "cell_type": "code",
   "execution_count": 45,
   "metadata": {
    "collapsed": false
   },
   "outputs": [
    {
     "data": {
      "text/html": [
       "<iframe id=\"igraph\" scrolling=\"no\" style=\"border:none;\" seamless=\"seamless\" src=\"https://plot.ly/~TOEYTANAPA/7.embed\" height=\"525px\" width=\"100%\"></iframe>"
      ],
      "text/plain": [
       "<plotly.tools.PlotlyDisplay object>"
      ]
     },
     "execution_count": 45,
     "metadata": {},
     "output_type": "execute_result"
    }
   ],
   "source": [
    "import plotly.plotly as py\n",
    "import plotly.graph_objs as go\n",
    "\n",
    "\n",
    "plotly.tools.set_credentials_file(username='TOEYTANAPA', api_key='x6hcB6wzd2723bJwMHET')\n",
    "\n",
    "\n",
    "\n",
    "\n",
    "\n",
    "trace0 = go.Scatter(\n",
    "    x = df3['ApplicantIncome'],\n",
    "    y = df3['LoanAmount'],\n",
    "    name = 'Allow Loan',\n",
    "    mode = 'markers',\n",
    "    marker = dict(\n",
    "        size = 10,\n",
    "        color = 'rgba(53, 126, 130, .5)',\n",
    "        line = dict(\n",
    "            width = 2,\n",
    "            color = 'rgba(255, 255, 255, 1.0)'\n",
    "        )\n",
    "      \n",
    "    )\n",
    ")\n",
    "\n",
    "\n",
    "\n",
    "trace1 = go.Scatter(\n",
    "    x =df4['ApplicantIncome'],\n",
    "    y = df4['LoanAmount'],\n",
    "    name = 'Not Allow Loan',\n",
    "    mode = 'markers',\n",
    "    marker = dict(\n",
    "        symbol = 'x-dot',\n",
    "        size = 10,\n",
    "        color = 'rgba(152, 0, 0, .5)',\n",
    "       \n",
    "        line = dict(\n",
    "            width = 2,\n",
    "            color = 'rgba(255, 255, 255, 1.0)'\n",
    "        )\n",
    "    )\n",
    ")\n",
    "\n",
    "data = [trace0,trace1]\n",
    "\n",
    "\n",
    "layout = dict(\n",
    "    title='Allow Loan',\n",
    "    xaxis=dict(\n",
    "        title='เงินเดือน',\n",
    "        zeroline = False,\n",
    "    ),\n",
    "    yaxis=dict(\n",
    "        zeroline = False,\n",
    "                    title='จำนวนที่กู้เงิน',\n",
    "    ),\n",
    "    paper_bgcolor='rgb(243, 243, 243)',\n",
    "    plot_bgcolor='rgb(243, 243, 243)',\n",
    ")\n",
    "\n",
    "fig = dict(data=data, layout=layout)\n",
    "py.iplot(fig, filename='styled-scatter')"
   ]
  },
  {
   "cell_type": "code",
   "execution_count": 46,
   "metadata": {
    "collapsed": false
   },
   "outputs": [
    {
     "data": {
      "text/html": [
       "<iframe id=\"igraph\" scrolling=\"no\" style=\"border:none;\" seamless=\"seamless\" src=\"https://plot.ly/~TOEYTANAPA/7.embed\" height=\"525px\" width=\"100%\"></iframe>"
      ],
      "text/plain": [
       "<plotly.tools.PlotlyDisplay object>"
      ]
     },
     "execution_count": 46,
     "metadata": {},
     "output_type": "execute_result"
    }
   ],
   "source": [
    "trace0 = go.Scatter(\n",
    "    x =df3['Dependents'],\n",
    "    y = df3['ApplicantIncome'],\n",
    "    name = 'Allow Loan',\n",
    "    mode = 'markers',\n",
    "    marker = dict(\n",
    "        size = 15,\n",
    "        color = 'rgba(53, 126, 130, .5)',\n",
    "        line = dict(\n",
    "            width = 2,\n",
    "            color = 'rgba(255, 255, 255, 1.0)'\n",
    "        )\n",
    "      \n",
    "    )\n",
    ")\n",
    "\n",
    "\n",
    "\n",
    "trace1 = go.Scatter(\n",
    "    x =df4['Dependents'],\n",
    "    y = df4['ApplicantIncome'],\n",
    "    name = 'Not Allow Loan',\n",
    "    mode = 'markers',\n",
    "    marker = dict(\n",
    "        symbol = 'x-dot',\n",
    "        size = 15,\n",
    "        color = 'rgba(152, 0, 0, .5)',\n",
    "       \n",
    "        line = dict(\n",
    "            width = 2,\n",
    "            color = 'rgba(255, 255, 255, 1.0)'\n",
    "        )\n",
    "    )\n",
    ")\n",
    "\n",
    "data = [trace0,trace1]\n",
    "\n",
    "layout = dict(\n",
    "    title='Allow Loan',\n",
    "    xaxis=dict(\n",
    "        title='ผู้อุปการะ',\n",
    "        zeroline = False,\n",
    "    ),\n",
    "    yaxis=dict(\n",
    "        zeroline = False,\n",
    "        title='เงินเดือน',\n",
    "    ),\n",
    "    paper_bgcolor='rgb(243, 243, 243)',\n",
    "    plot_bgcolor='rgb(243, 243, 243)',\n",
    ")\n",
    "\n",
    "fig = dict(data=data, layout=layout)\n",
    "py.iplot(fig, filename='styled-scatter')"
   ]
  },
  {
   "cell_type": "code",
   "execution_count": 26,
   "metadata": {
    "collapsed": false
   },
   "outputs": [
    {
     "name": "stdout",
     "output_type": "stream",
     "text": [
      "High five! You successfuly sent some data to your account on plotly. View your plot in your browser at https://plot.ly/~KanekiKen/0 or inside your plot.ly account where it is named 'styled-scatter'\n"
     ]
    },
    {
     "data": {
      "text/html": [
       "<iframe id=\"igraph\" scrolling=\"no\" style=\"border:none;\" seamless=\"seamless\" src=\"https://plot.ly/~KanekiKen/0.embed\" height=\"525px\" width=\"100%\"></iframe>"
      ],
      "text/plain": [
       "<plotly.tools.PlotlyDisplay object>"
      ]
     },
     "execution_count": 26,
     "metadata": {},
     "output_type": "execute_result"
    }
   ],
   "source": [
    "trace0 = go.Scatter(\n",
    "    x =df3['CoapplicantIncome'],\n",
    "    y = df3['ApplicantIncome'],\n",
    "    name = 'Allow Loan',\n",
    "    mode = 'markers',\n",
    "    marker = dict(\n",
    "        size = 15,\n",
    "        color = 'rgba(53, 126, 130, .5)',\n",
    "        line = dict(\n",
    "            width = 2,\n",
    "            color = 'rgba(255, 255, 255, 1.0)'\n",
    "        )\n",
    "      \n",
    "    )\n",
    ")\n",
    "\n",
    "\n",
    "\n",
    "trace1 = go.Scatter(\n",
    "    x =df4['CoapplicantIncome'],\n",
    "    y = df4['ApplicantIncome'],\n",
    "    name = 'Not Allow Loan',\n",
    "    mode = 'markers',\n",
    "    marker = dict(\n",
    "        size = 15,\n",
    "        symbol = 'x-dot',\n",
    "        color = 'rgba(152, 0, 0, .5)',\n",
    "        line = dict(\n",
    "            width = 2,\n",
    "            color = 'rgba(255, 255, 255, 1.0)'\n",
    "        )\n",
    "    )\n",
    ")\n",
    "\n",
    "data = [trace0,trace1]\n",
    "\n",
    "layout = dict(\n",
    "    title='Allow Loan',\n",
    "    xaxis=dict(\n",
    "        title='เงินเดือนผู้ค้ำประกัน',\n",
    "        zeroline = False,\n",
    "    ),\n",
    "    yaxis=dict(\n",
    "        zeroline = False,\n",
    "                    title='เงินเดือน',\n",
    "    ),\n",
    "    paper_bgcolor='rgb(243, 243, 243)',\n",
    "    plot_bgcolor='rgb(243, 243, 243)',\n",
    ")\n",
    "\n",
    "fig = dict(data=data, layout=layout)\n",
    "py.iplot(fig, filename='styled-scatter')"
   ]
  },
  {
   "cell_type": "code",
   "execution_count": 27,
   "metadata": {
    "collapsed": false
   },
   "outputs": [
    {
     "name": "stdout",
     "output_type": "stream",
     "text": [
      "High five! You successfuly sent some data to your account on plotly. View your plot in your browser at https://plot.ly/~KanekiKen/0 or inside your plot.ly account where it is named 'styled-scatter'\n"
     ]
    },
    {
     "data": {
      "text/html": [
       "<iframe id=\"igraph\" scrolling=\"no\" style=\"border:none;\" seamless=\"seamless\" src=\"https://plot.ly/~KanekiKen/0.embed\" height=\"525px\" width=\"100%\"></iframe>"
      ],
      "text/plain": [
       "<plotly.tools.PlotlyDisplay object>"
      ]
     },
     "execution_count": 27,
     "metadata": {},
     "output_type": "execute_result"
    }
   ],
   "source": [
    "trace0 = go.Scatter(\n",
    "    x = df3['Credit_History'],\n",
    "    y = df3['ApplicantIncome'],\n",
    "    name = 'Allow Loan',\n",
    "    mode = 'markers',\n",
    "    marker = dict(\n",
    "        size = 15,\n",
    "        color = 'rgba(53, 126, 130, .5)',\n",
    "        line = dict(\n",
    "            width = 2,\n",
    "            color = 'rgba(255, 255, 255, 1.0)'\n",
    "        )\n",
    "      \n",
    "    )\n",
    ")\n",
    "\n",
    "\n",
    "\n",
    "trace1 = go.Scatter(\n",
    "    x = df4['Credit_History'],\n",
    "    y = df4['ApplicantIncome'],\n",
    "    name = 'Not Allow Loan',\n",
    "    mode = 'markers',\n",
    "    marker = dict(\n",
    "        size = 15,\n",
    "        symbol = 'x-dot',\n",
    "        color = 'rgba(152, 0, 0, .5)',\n",
    "        line = dict(\n",
    "            width = 2,\n",
    "            color = 'rgba(255, 255, 255, 1.0)'\n",
    "        )\n",
    "    )\n",
    ")\n",
    "\n",
    "data = [trace0,trace1]\n",
    "\n",
    "layout = dict(\n",
    "    title='Allow Loan',\n",
    "    xaxis=dict(\n",
    "        title='ประวัติเครดิต',\n",
    "        zeroline = False,\n",
    "    ),\n",
    "    yaxis=dict(\n",
    "        zeroline = False,\n",
    "                    title='เงินเดือน',\n",
    "    ),\n",
    "    paper_bgcolor='rgb(243, 243, 243)',\n",
    "    plot_bgcolor='rgb(243, 243, 243)',\n",
    ")\n",
    "\n",
    "fig = dict(data=data, layout=layout)\n",
    "py.iplot(fig, filename='styled-scatter')"
   ]
  },
  {
   "cell_type": "code",
   "execution_count": 28,
   "metadata": {
    "collapsed": false
   },
   "outputs": [
    {
     "name": "stdout",
     "output_type": "stream",
     "text": [
      "High five! You successfuly sent some data to your account on plotly. View your plot in your browser at https://plot.ly/~KanekiKen/0 or inside your plot.ly account where it is named 'styled-scatter'\n"
     ]
    },
    {
     "data": {
      "text/html": [
       "<iframe id=\"igraph\" scrolling=\"no\" style=\"border:none;\" seamless=\"seamless\" src=\"https://plot.ly/~KanekiKen/0.embed\" height=\"525px\" width=\"100%\"></iframe>"
      ],
      "text/plain": [
       "<plotly.tools.PlotlyDisplay object>"
      ]
     },
     "execution_count": 28,
     "metadata": {},
     "output_type": "execute_result"
    }
   ],
   "source": [
    "trace0 = go.Scatter(\n",
    "    x = df3['Married'],\n",
    "    y = df3['ApplicantIncome'],\n",
    "    name = 'Allow Loan',\n",
    "    mode = 'markers',\n",
    "    marker = dict(\n",
    "        size = 15,\n",
    "        color = 'rgba(53, 126, 130, .5)',\n",
    "        line = dict(\n",
    "            width = 2,\n",
    "            color = 'rgba(255, 255, 255, 1.0)'\n",
    "        )\n",
    "      \n",
    "    )\n",
    ")\n",
    "\n",
    "\n",
    "\n",
    "trace1 = go.Scatter(\n",
    "    x = df4['Married'],\n",
    "    y = df4['ApplicantIncome'],\n",
    "    name = 'Not Allow Loan',\n",
    "    mode = 'markers',\n",
    "    marker = dict(\n",
    "        size = 15,\n",
    "        symbol = 'x-dot',\n",
    "        color = 'rgba(152, 0, 0, .5)',\n",
    "        line = dict(\n",
    "            width = 2,\n",
    "            color = 'rgba(255, 255, 255, 1.0)'\n",
    "        )\n",
    "    )\n",
    ")\n",
    "\n",
    "data = [trace0,trace1]\n",
    "\n",
    "layout = dict(\n",
    "    title='Allow Loan',\n",
    "    xaxis=dict(\n",
    "        title='แต่งงาน',\n",
    "        zeroline = False,\n",
    "    ),\n",
    "    yaxis=dict(\n",
    "        zeroline = False,\n",
    "                    title='เงินเดือน',\n",
    "    ),\n",
    "    paper_bgcolor='rgb(243, 243, 243)',\n",
    "    plot_bgcolor='rgb(243, 243, 243)',\n",
    ")\n",
    "\n",
    "fig = dict(data=data, layout=layout)\n",
    "py.iplot(fig, filename='styled-scatter')"
   ]
  },
  {
   "cell_type": "code",
   "execution_count": 29,
   "metadata": {
    "collapsed": false
   },
   "outputs": [
    {
     "name": "stdout",
     "output_type": "stream",
     "text": [
      "High five! You successfuly sent some data to your account on plotly. View your plot in your browser at https://plot.ly/~KanekiKen/0 or inside your plot.ly account where it is named 'styled-scatter'\n"
     ]
    },
    {
     "data": {
      "text/html": [
       "<iframe id=\"igraph\" scrolling=\"no\" style=\"border:none;\" seamless=\"seamless\" src=\"https://plot.ly/~KanekiKen/0.embed\" height=\"525px\" width=\"100%\"></iframe>"
      ],
      "text/plain": [
       "<plotly.tools.PlotlyDisplay object>"
      ]
     },
     "execution_count": 29,
     "metadata": {},
     "output_type": "execute_result"
    }
   ],
   "source": [
    "trace0 = go.Scatter(\n",
    "    x = df3['Self_Employed'],\n",
    "    y = df3['ApplicantIncome'],\n",
    "    name = 'Allow Loan',\n",
    "    mode = 'markers',\n",
    "    marker = dict(\n",
    "        size = 15,\n",
    "        color = 'rgba(53, 126, 130, .5)',\n",
    "        line = dict(\n",
    "            width = 2,\n",
    "            color = 'rgba(255, 255, 255, 1.0)'\n",
    "        )\n",
    "      \n",
    "    )\n",
    ")\n",
    "\n",
    "\n",
    "\n",
    "trace1 = go.Scatter(\n",
    "    x = df4['Self_Employed'],\n",
    "    y = df4['ApplicantIncome'],\n",
    "    name = 'Not Allow Loan',\n",
    "    mode = 'markers',\n",
    "    marker = dict(\n",
    "        size = 15,\n",
    "        symbol = 'x-dot',\n",
    "        color = 'rgba(152, 0, 0, .5)',\n",
    "        line = dict(\n",
    "            width = 2,\n",
    "            color = 'rgba(255, 255, 255, 1.0)'\n",
    "        )\n",
    "    )\n",
    ")\n",
    "\n",
    "data = [trace0,trace1]\n",
    "\n",
    "layout = dict(\n",
    "    title='Allow Loan',\n",
    "    xaxis=dict(\n",
    "        title='ธุรกิจส่วนตัว',\n",
    "        zeroline = False,\n",
    "    ),\n",
    "    yaxis=dict(\n",
    "        zeroline = False,\n",
    "                    title='เงินเดือน',\n",
    "    ),\n",
    "    paper_bgcolor='rgb(243, 243, 243)',\n",
    "    plot_bgcolor='rgb(243, 243, 243)',\n",
    ")\n",
    "\n",
    "fig = dict(data=data, layout=layout)\n",
    "py.iplot(fig, filename='styled-scatter')"
   ]
  },
  {
   "cell_type": "code",
   "execution_count": 30,
   "metadata": {
    "collapsed": false
   },
   "outputs": [
    {
     "name": "stdout",
     "output_type": "stream",
     "text": [
      "High five! You successfuly sent some data to your account on plotly. View your plot in your browser at https://plot.ly/~KanekiKen/0 or inside your plot.ly account where it is named 'styled-scatter'\n"
     ]
    },
    {
     "data": {
      "text/html": [
       "<iframe id=\"igraph\" scrolling=\"no\" style=\"border:none;\" seamless=\"seamless\" src=\"https://plot.ly/~KanekiKen/0.embed\" height=\"525px\" width=\"100%\"></iframe>"
      ],
      "text/plain": [
       "<plotly.tools.PlotlyDisplay object>"
      ]
     },
     "execution_count": 30,
     "metadata": {},
     "output_type": "execute_result"
    }
   ],
   "source": [
    "trace0 = go.Scatter(\n",
    "    x = df3['Loan_Amount_Term'],\n",
    "    y = df3['ApplicantIncome'],\n",
    "    name = 'Allow Loan',\n",
    "    mode = 'markers',\n",
    "    marker = dict(\n",
    "        size = 15,\n",
    "        color = 'rgba(53, 126, 130, .5)',\n",
    "        line = dict(\n",
    "            width = 2,\n",
    "            color = 'rgba(255, 255, 255, 1.0)'\n",
    "        )\n",
    "      \n",
    "    )\n",
    ")\n",
    "\n",
    "\n",
    "\n",
    "trace1 = go.Scatter(\n",
    "    x = df4['Loan_Amount_Term'],\n",
    "    y = df4['ApplicantIncome'],\n",
    "    name = 'Not Allow Loan',\n",
    "    mode = 'markers',\n",
    "    marker = dict(\n",
    "        size = 15,\n",
    "        symbol = 'x-dot',\n",
    "        color = 'rgba(152, 0, 0, .5)',\n",
    "        line = dict(\n",
    "            width = 2,\n",
    "            color = 'rgba(255, 255, 255, 1.0)'\n",
    "        )\n",
    "    )\n",
    ")\n",
    "\n",
    "data = [trace0,trace1]\n",
    "\n",
    "layout = dict(\n",
    "    title='Allow Loan',\n",
    "    xaxis=dict(\n",
    "        title='เงินกู้ที่ต้องจ่ายต่อเดือน',\n",
    "        zeroline = False,\n",
    "    ),\n",
    "    yaxis=dict(\n",
    "        zeroline = False,\n",
    "                    title='เงินเดือน',\n",
    "    ),\n",
    "    paper_bgcolor='rgb(243, 243, 243)',\n",
    "    plot_bgcolor='rgb(243, 243, 243)',\n",
    ")\n",
    "\n",
    "fig = dict(data=data, layout=layout)\n",
    "py.iplot(fig, filename='styled-scatter')"
   ]
  },
  {
   "cell_type": "code",
   "execution_count": 31,
   "metadata": {
    "collapsed": false
   },
   "outputs": [
    {
     "name": "stdout",
     "output_type": "stream",
     "text": [
      "High five! You successfuly sent some data to your account on plotly. View your plot in your browser at https://plot.ly/~KanekiKen/0 or inside your plot.ly account where it is named 'styled-scatter'\n"
     ]
    },
    {
     "data": {
      "text/html": [
       "<iframe id=\"igraph\" scrolling=\"no\" style=\"border:none;\" seamless=\"seamless\" src=\"https://plot.ly/~KanekiKen/0.embed\" height=\"525px\" width=\"100%\"></iframe>"
      ],
      "text/plain": [
       "<plotly.tools.PlotlyDisplay object>"
      ]
     },
     "execution_count": 31,
     "metadata": {},
     "output_type": "execute_result"
    }
   ],
   "source": [
    "trace0 = go.Scatter(\n",
    "    x = df3['Property_Area'],\n",
    "    y = df3['ApplicantIncome'],\n",
    "    name = 'Allow Loan',\n",
    "    mode = 'markers',\n",
    "    marker = dict(\n",
    "        size = 15,\n",
    "        color = 'rgba(53, 126, 130, .5)',\n",
    "        line = dict(\n",
    "            width = 2,\n",
    "            color = 'rgba(255, 255, 255, 1.0)'\n",
    "        )\n",
    "      \n",
    "    )\n",
    ")\n",
    "\n",
    "\n",
    "\n",
    "trace1 = go.Scatter(\n",
    "    x = df4['Property_Area'],\n",
    "    y = df4['ApplicantIncome'],\n",
    "    name = 'Not Allow Loan',\n",
    "    mode = 'markers',\n",
    "    marker = dict(\n",
    "        size = 15,\n",
    "        symbol = 'x-dot',\n",
    "        color = 'rgba(152, 0, 0, .5)',\n",
    "        line = dict(\n",
    "            width = 2,\n",
    "            color = 'rgba(255, 255, 255, 1.0)'\n",
    "        )\n",
    "    )\n",
    ")\n",
    "\n",
    "data = [trace0,trace1]\n",
    "\n",
    "layout = dict(\n",
    "    title='Allow Loan',\n",
    "    xaxis=dict(\n",
    "        title='ที่อยู่',\n",
    "        zeroline = False,\n",
    "    ),\n",
    "    yaxis=dict(\n",
    "        zeroline = False,\n",
    "                    title='เงินเดือน',\n",
    "    ),\n",
    "    paper_bgcolor='rgb(243, 243, 243)',\n",
    "    plot_bgcolor='rgb(243, 243, 243)',\n",
    ")\n",
    "\n",
    "fig = dict(data=data, layout=layout)\n",
    "py.iplot(fig, filename='styled-scatter')"
   ]
  },
  {
   "cell_type": "code",
   "execution_count": 32,
   "metadata": {
    "collapsed": false
   },
   "outputs": [
    {
     "name": "stdout",
     "output_type": "stream",
     "text": [
      "High five! You successfuly sent some data to your account on plotly. View your plot in your browser at https://plot.ly/~KanekiKen/0 or inside your plot.ly account where it is named 'styled-scatter'\n"
     ]
    },
    {
     "data": {
      "text/html": [
       "<iframe id=\"igraph\" scrolling=\"no\" style=\"border:none;\" seamless=\"seamless\" src=\"https://plot.ly/~KanekiKen/0.embed\" height=\"525px\" width=\"100%\"></iframe>"
      ],
      "text/plain": [
       "<plotly.tools.PlotlyDisplay object>"
      ]
     },
     "execution_count": 32,
     "metadata": {},
     "output_type": "execute_result"
    }
   ],
   "source": [
    "trace0 = go.Scatter(\n",
    "    x = df3['Property_Area'],\n",
    "    y = df3['ApplicantIncome'],\n",
    "    name = 'Allow Loan',\n",
    "    mode = 'markers',\n",
    "    marker = dict(\n",
    "        size = 15,\n",
    "        color = 'rgba(53, 126, 130, .5)',\n",
    "        line = dict(\n",
    "            width = 2,\n",
    "            color = 'rgba(255, 255, 255, 1.0)'\n",
    "        )\n",
    "      \n",
    "    )\n",
    ")\n",
    "\n",
    "\n",
    "\n",
    "trace1 = go.Scatter(\n",
    "    x = df4['Property_Area'],\n",
    "    y = df4['ApplicantIncome'],\n",
    "    name = 'Not Allow Loan',\n",
    "    mode = 'markers',\n",
    "    marker = dict(\n",
    "        size = 15,\n",
    "        symbol = 'x-dot',\n",
    "        color = 'rgba(152, 0, 0, .5)',\n",
    "        line = dict(\n",
    "            width = 2,\n",
    "            color = 'rgba(255, 255, 255, 1.0)'\n",
    "        )\n",
    "    )\n",
    ")\n",
    "\n",
    "data = [trace0,trace1]\n",
    "\n",
    "layout = dict(\n",
    "    title='Allow Loan',\n",
    "    xaxis=dict(\n",
    "        title='ที่อยู่',\n",
    "        zeroline = False,\n",
    "    ),\n",
    "    yaxis=dict(\n",
    "        zeroline = False,\n",
    "                    title='เงินเดือน',\n",
    "    ),\n",
    "    paper_bgcolor='rgb(243, 243, 243)',\n",
    "    plot_bgcolor='rgb(243, 243, 243)',\n",
    ")\n",
    "\n",
    "fig = dict(data=data, layout=layout)\n",
    "py.iplot(fig, filename='styled-scatter')"
   ]
  },
  {
   "cell_type": "code",
   "execution_count": 33,
   "metadata": {
    "collapsed": false
   },
   "outputs": [
    {
     "name": "stdout",
     "output_type": "stream",
     "text": [
      "High five! You successfuly sent some data to your account on plotly. View your plot in your browser at https://plot.ly/~KanekiKen/0 or inside your plot.ly account where it is named 'styled-scatter'\n"
     ]
    },
    {
     "data": {
      "text/html": [
       "<iframe id=\"igraph\" scrolling=\"no\" style=\"border:none;\" seamless=\"seamless\" src=\"https://plot.ly/~KanekiKen/0.embed\" height=\"525px\" width=\"100%\"></iframe>"
      ],
      "text/plain": [
       "<plotly.tools.PlotlyDisplay object>"
      ]
     },
     "execution_count": 33,
     "metadata": {},
     "output_type": "execute_result"
    }
   ],
   "source": [
    "trace0 = go.Scatter(\n",
    "    x = df3['Property_Area'],\n",
    "    y = df3['LoanAmount'],\n",
    "    name = 'Allow Loan',\n",
    "    mode = 'markers',\n",
    "    marker = dict(\n",
    "        size = 15,\n",
    "        color = 'rgba(53, 126, 130, .5)',\n",
    "        line = dict(\n",
    "            width = 2,\n",
    "            color = 'rgba(255, 255, 255, 1.0)'\n",
    "        )\n",
    "      \n",
    "    )\n",
    ")\n",
    "\n",
    "\n",
    "\n",
    "trace1 = go.Scatter(\n",
    "    x = df4['Property_Area'],\n",
    "    y = df4['LoanAmount'],\n",
    "    name = 'Not Allow Loan',\n",
    "    mode = 'markers',\n",
    "    marker = dict(\n",
    "        size = 15,\n",
    "        symbol = 'x-dot',\n",
    "        color = 'rgba(152, 0, 0, .5)',\n",
    "        line = dict(\n",
    "            width = 2,\n",
    "            color = 'rgba(255, 255, 255, 1.0)'\n",
    "        )\n",
    "    )\n",
    ")\n",
    "\n",
    "data = [trace0,trace1]\n",
    "\n",
    "layout = dict(\n",
    "    title='Allow Loan',\n",
    "    xaxis=dict(\n",
    "        title='ที่อยู่',\n",
    "        zeroline = False,\n",
    "    ),\n",
    "    yaxis=dict(\n",
    "        zeroline = False,\n",
    "                    title='เงินกู้',\n",
    "    ),\n",
    "    paper_bgcolor='rgb(243, 243, 243)',\n",
    "    plot_bgcolor='rgb(243, 243, 243)',\n",
    ")\n",
    "\n",
    "fig = dict(data=data, layout=layout)\n",
    "py.iplot(fig, filename='styled-scatter')"
   ]
  },
  {
   "cell_type": "code",
   "execution_count": 34,
   "metadata": {
    "collapsed": false
   },
   "outputs": [
    {
     "name": "stdout",
     "output_type": "stream",
     "text": [
      "High five! You successfuly sent some data to your account on plotly. View your plot in your browser at https://plot.ly/~KanekiKen/0 or inside your plot.ly account where it is named 'styled-scatter'\n"
     ]
    },
    {
     "data": {
      "text/html": [
       "<iframe id=\"igraph\" scrolling=\"no\" style=\"border:none;\" seamless=\"seamless\" src=\"https://plot.ly/~KanekiKen/0.embed\" height=\"525px\" width=\"100%\"></iframe>"
      ],
      "text/plain": [
       "<plotly.tools.PlotlyDisplay object>"
      ]
     },
     "execution_count": 34,
     "metadata": {},
     "output_type": "execute_result"
    }
   ],
   "source": [
    "trace0 = go.Scatter(\n",
    "    x = df3['CoapplicantIncome'],\n",
    "    y = df3['LoanAmount'],\n",
    "    name = 'Allow Loan',\n",
    "    mode = 'markers',\n",
    "    marker = dict(\n",
    "        size = 15,\n",
    "        color = 'rgba(53, 126, 130, .5)',\n",
    "        line = dict(\n",
    "            width = 2,\n",
    "            color = 'rgba(255, 255, 255, 1.0)'\n",
    "        )\n",
    "      \n",
    "    )\n",
    ")\n",
    "\n",
    "\n",
    "\n",
    "trace1 = go.Scatter(\n",
    "    x = df4['CoapplicantIncome'],\n",
    "    y = df4['LoanAmount'],\n",
    "    name = 'Not Allow Loan',\n",
    "    mode = 'markers',\n",
    "    marker = dict(\n",
    "        size = 15,\n",
    "        symbol = 'x-dot',\n",
    "        color = 'rgba(152, 0, 0, .5)',\n",
    "        line = dict(\n",
    "            width = 2,\n",
    "            color = 'rgba(255, 255, 255, 1.0)'\n",
    "        )\n",
    "    )\n",
    ")\n",
    "\n",
    "data = [trace0,trace1]\n",
    "\n",
    "layout = dict(\n",
    "    title='Allow Loan',\n",
    "    xaxis=dict(\n",
    "        title='เงินเดือนผู้ค้ำประกัน',\n",
    "        zeroline = False,\n",
    "    ),\n",
    "    yaxis=dict(\n",
    "        zeroline = False,\n",
    "                    title='เงินกู้',\n",
    "    ),\n",
    "    paper_bgcolor='rgb(243, 243, 243)',\n",
    "    plot_bgcolor='rgb(243, 243, 243)',\n",
    ")\n",
    "\n",
    "fig = dict(data=data, layout=layout)\n",
    "py.iplot(fig, filename='styled-scatter')"
   ]
  },
  {
   "cell_type": "code",
   "execution_count": 35,
   "metadata": {
    "collapsed": false
   },
   "outputs": [
    {
     "name": "stdout",
     "output_type": "stream",
     "text": [
      "High five! You successfuly sent some data to your account on plotly. View your plot in your browser at https://plot.ly/~KanekiKen/0 or inside your plot.ly account where it is named 'styled-scatter'\n"
     ]
    },
    {
     "data": {
      "text/html": [
       "<iframe id=\"igraph\" scrolling=\"no\" style=\"border:none;\" seamless=\"seamless\" src=\"https://plot.ly/~KanekiKen/0.embed\" height=\"525px\" width=\"100%\"></iframe>"
      ],
      "text/plain": [
       "<plotly.tools.PlotlyDisplay object>"
      ]
     },
     "execution_count": 35,
     "metadata": {},
     "output_type": "execute_result"
    }
   ],
   "source": [
    "trace0 = go.Scatter(\n",
    "    x = df3['Married'],\n",
    "    y = df3['LoanAmount'],\n",
    "    name = 'Allow Loan',\n",
    "    mode = 'markers',\n",
    "    marker = dict(\n",
    "        size = 15,\n",
    "        color = 'rgba(53, 126, 130, .5)',\n",
    "        line = dict(\n",
    "            width = 2,\n",
    "            color = 'rgba(255, 255, 255, 1.0)'\n",
    "        )\n",
    "      \n",
    "    )\n",
    ")\n",
    "\n",
    "\n",
    "\n",
    "trace1 = go.Scatter(\n",
    "    x = df4['Married'],\n",
    "    y = df4['LoanAmount'],\n",
    "    name = 'Not Allow Loan',\n",
    "    mode = 'markers',\n",
    "    marker = dict(\n",
    "        size = 15,\n",
    "        symbol = 'x-dot',\n",
    "        color = 'rgba(152, 0, 0, .5)',\n",
    "        line = dict(\n",
    "            width = 2,\n",
    "            color = 'rgba(255, 255, 255, 1.0)'\n",
    "        )\n",
    "    )\n",
    ")\n",
    "\n",
    "data = [trace0,trace1]\n",
    "\n",
    "layout = dict(\n",
    "    title='Allow Loan',\n",
    "    xaxis=dict(\n",
    "        title='แต่งงาน',\n",
    "        zeroline = False,\n",
    "    ),\n",
    "    yaxis=dict(\n",
    "        zeroline = False,\n",
    "                    title='เงินกู้',\n",
    "    ),\n",
    "    paper_bgcolor='rgb(243, 243, 243)',\n",
    "    plot_bgcolor='rgb(243, 243, 243)',\n",
    ")\n",
    "\n",
    "fig = dict(data=data, layout=layout)\n",
    "py.iplot(fig, filename='styled-scatter')"
   ]
  },
  {
   "cell_type": "code",
   "execution_count": 36,
   "metadata": {
    "collapsed": false
   },
   "outputs": [
    {
     "name": "stdout",
     "output_type": "stream",
     "text": [
      "High five! You successfuly sent some data to your account on plotly. View your plot in your browser at https://plot.ly/~KanekiKen/0 or inside your plot.ly account where it is named 'styled-scatter'\n"
     ]
    },
    {
     "data": {
      "text/html": [
       "<iframe id=\"igraph\" scrolling=\"no\" style=\"border:none;\" seamless=\"seamless\" src=\"https://plot.ly/~KanekiKen/0.embed\" height=\"525px\" width=\"100%\"></iframe>"
      ],
      "text/plain": [
       "<plotly.tools.PlotlyDisplay object>"
      ]
     },
     "execution_count": 36,
     "metadata": {},
     "output_type": "execute_result"
    }
   ],
   "source": [
    "trace0 = go.Scatter(\n",
    "    x = df3['Self_Employed'],\n",
    "    y = df3['LoanAmount'],\n",
    "    name = 'Allow Loan',\n",
    "    mode = 'markers',\n",
    "    marker = dict(\n",
    "        size = 15,\n",
    "        color = 'rgba(53, 126, 130, .5)',\n",
    "        line = dict(\n",
    "            width = 2,\n",
    "            color = 'rgba(255, 255, 255, 1.0)'\n",
    "        )\n",
    "      \n",
    "    )\n",
    ")\n",
    "\n",
    "\n",
    "\n",
    "trace1 = go.Scatter(\n",
    "    x = df4['Self_Employed'],\n",
    "    y = df4['LoanAmount'],\n",
    "    name = 'Not Allow Loan',\n",
    "    mode = 'markers',\n",
    "    marker = dict(\n",
    "        size = 15,\n",
    "        symbol = 'x-dot',\n",
    "        color = 'rgba(152, 0, 0, .5)',\n",
    "        line = dict(\n",
    "            width = 2,\n",
    "            color = 'rgba(255, 255, 255, 1.0)'\n",
    "        )\n",
    "    )\n",
    ")\n",
    "\n",
    "data = [trace0,trace1]\n",
    "\n",
    "layout = dict(\n",
    "    title='Allow Loan',\n",
    "    xaxis=dict(\n",
    "        title='ธุรกิจส่วนตัว',\n",
    "        zeroline = False,\n",
    "    ),\n",
    "    yaxis=dict(\n",
    "        zeroline = False,\n",
    "                    title='เงินกู้',\n",
    "    ),\n",
    "    paper_bgcolor='rgb(243, 243, 243)',\n",
    "    plot_bgcolor='rgb(243, 243, 243)',\n",
    ")\n",
    "\n",
    "fig = dict(data=data, layout=layout)\n",
    "py.iplot(fig, filename='styled-scatter')"
   ]
  },
  {
   "cell_type": "markdown",
   "metadata": {},
   "source": [
    "#Training"
   ]
  },
  {
   "cell_type": "code",
   "execution_count": 19,
   "metadata": {
    "collapsed": false
   },
   "outputs": [
    {
     "data": {
      "text/plain": [
       "Index([u'Gender', u'Married', u'Dependents', u'Education', u'Self_Employed', u'ApplicantIncome', u'CoapplicantIncome', u'LoanAmount', u'Loan_Amount_Term', u'Credit_History', u'Property_Area'], dtype='object')"
      ]
     },
     "execution_count": 19,
     "metadata": {},
     "output_type": "execute_result"
    }
   ],
   "source": [
    "df2.columns[:11]"
   ]
  },
  {
   "cell_type": "code",
   "execution_count": 20,
   "metadata": {
    "collapsed": true
   },
   "outputs": [],
   "source": [
    "X=df2.as_matrix([df2.columns[:11]])"
   ]
  },
  {
   "cell_type": "code",
   "execution_count": 215,
   "metadata": {
    "collapsed": false
   },
   "outputs": [],
   "source": [
    "y=df2.as_matrix([\"Loan_Status\"])"
   ]
  },
  {
   "cell_type": "code",
   "execution_count": 216,
   "metadata": {
    "collapsed": false
   },
   "outputs": [
    {
     "data": {
      "text/plain": [
       "(480L, 1L)"
      ]
     },
     "execution_count": 216,
     "metadata": {},
     "output_type": "execute_result"
    }
   ],
   "source": [
    "y.shape"
   ]
  },
  {
   "cell_type": "code",
   "execution_count": 217,
   "metadata": {
    "collapsed": true
   },
   "outputs": [],
   "source": [
    "y=y.reshape(-1)"
   ]
  },
  {
   "cell_type": "code",
   "execution_count": 218,
   "metadata": {
    "collapsed": false
   },
   "outputs": [
    {
     "data": {
      "text/plain": [
       "(480L,)"
      ]
     },
     "execution_count": 218,
     "metadata": {},
     "output_type": "execute_result"
    }
   ],
   "source": [
    "y.shape"
   ]
  },
  {
   "cell_type": "code",
   "execution_count": 219,
   "metadata": {
    "collapsed": false
   },
   "outputs": [
    {
     "data": {
      "text/plain": [
       "(480L, 11L)"
      ]
     },
     "execution_count": 219,
     "metadata": {},
     "output_type": "execute_result"
    }
   ],
   "source": [
    "X.shape"
   ]
  },
  {
   "cell_type": "code",
   "execution_count": 233,
   "metadata": {
    "collapsed": true
   },
   "outputs": [],
   "source": [
    "Y_train = np.asarray(df['Loan_Status'], dtype=\"|S6\")"
   ]
  },
  {
   "cell_type": "code",
   "execution_count": 234,
   "metadata": {
    "collapsed": false
   },
   "outputs": [],
   "source": [
    "from sklearn.ensemble import ExtraTreesClassifier\n",
    "from sklearn.cross_validation import cross_val_score"
   ]
  },
  {
   "cell_type": "code",
   "execution_count": 235,
   "metadata": {
    "collapsed": false
   },
   "outputs": [],
   "source": [
    "forest = ExtraTreesClassifier(n_estimators=10,random_state=0)"
   ]
  },
  {
   "cell_type": "code",
   "execution_count": 236,
   "metadata": {
    "collapsed": false
   },
   "outputs": [
    {
     "data": {
      "text/plain": [
       "array([ 0.77018634,  0.75625   ,  0.69811321])"
      ]
     },
     "execution_count": 236,
     "metadata": {},
     "output_type": "execute_result"
    }
   ],
   "source": [
    "cross_val_score(forest, X, Y_train)"
   ]
  },
  {
   "cell_type": "code",
   "execution_count": 237,
   "metadata": {
    "collapsed": false
   },
   "outputs": [
    {
     "data": {
      "text/plain": [
       "ExtraTreesClassifier(bootstrap=False, class_weight=None, criterion='gini',\n",
       "           max_depth=None, max_features='auto', max_leaf_nodes=None,\n",
       "           min_impurity_split=1e-07, min_samples_leaf=1,\n",
       "           min_samples_split=2, min_weight_fraction_leaf=0.0,\n",
       "           n_estimators=10, n_jobs=1, oob_score=False, random_state=0,\n",
       "           verbose=0, warm_start=False)"
      ]
     },
     "execution_count": 237,
     "metadata": {},
     "output_type": "execute_result"
    }
   ],
   "source": [
    "forest.fit(X,Y_train)"
   ]
  },
  {
   "cell_type": "code",
   "execution_count": 240,
   "metadata": {
    "collapsed": false
   },
   "outputs": [
    {
     "name": "stderr",
     "output_type": "stream",
     "text": [
      "C:\\Users\\ta\\Anaconda\\lib\\site-packages\\sklearn\\utils\\validation.py:395: DeprecationWarning:\n",
      "\n",
      "Passing 1d arrays as data is deprecated in 0.17 and will raise ValueError in 0.19. Reshape your data either using X.reshape(-1, 1) if your data has a single feature or X.reshape(1, -1) if it contains a single sample.\n",
      "\n"
     ]
    },
    {
     "data": {
      "text/plain": [
       "array(['1'], \n",
       "      dtype='|S6')"
      ]
     },
     "execution_count": 240,
     "metadata": {},
     "output_type": "execute_result"
    }
   ],
   "source": [
    "forest.predict([1,1,0,1,0,5720,0,110,360,1,0])"
   ]
  },
  {
   "cell_type": "code",
   "execution_count": null,
   "metadata": {
    "collapsed": true
   },
   "outputs": [],
   "source": []
  },
  {
   "cell_type": "code",
   "execution_count": null,
   "metadata": {
    "collapsed": true
   },
   "outputs": [],
   "source": []
  },
  {
   "cell_type": "code",
   "execution_count": 224,
   "metadata": {
    "collapsed": false
   },
   "outputs": [
    {
     "name": "stdout",
     "output_type": "stream",
     "text": [
      "number of estimated clusters : 4\n"
     ]
    }
   ],
   "source": [
    "import numpy as np\n",
    "from sklearn.cluster import MeanShift, estimate_bandwidth\n",
    "from sklearn.datasets.samples_generator import make_blobs\n",
    "\n",
    "centers = [[1, 1], [-1, -1], [1, -1]]\n",
    "# X, _ = make_blobs(n_samples=165, centers=centers, cluster_std=0.6)\n",
    "\n",
    "# The following bandwidth can be automatically detected using\n",
    "bandwidth = estimate_bandwidth(X, quantile=0.2, n_samples=165)\n",
    "\n",
    "ms = MeanShift(bandwidth=bandwidth, bin_seeding=True)\n",
    "ms.fit(X)\n",
    "labels = ms.labels_\n",
    "cluster_centers = ms.cluster_centers_\n",
    "\n",
    "labels_unique = np.unique(labels)\n",
    "n_clusters_ = len(labels_unique)\n",
    "\n",
    "print(\"number of estimated clusters : %d\" % n_clusters_)"
   ]
  },
  {
   "cell_type": "code",
   "execution_count": 225,
   "metadata": {
    "collapsed": true
   },
   "outputs": [],
   "source": [
    "import matplotlib.pyplot as plt\n",
    "from itertools import cycle\n",
    "\n",
    "plt.figure(1)\n",
    "plt.clf()\n",
    "\n",
    "colors = cycle('bgrcmykbgrcmykbgrcmykbgrcmyk')\n",
    "for k, col in zip(range(n_clusters_), colors):\n",
    "    my_members = labels == k\n",
    "    cluster_center = cluster_centers[k]\n",
    "    plt.plot(X[my_members, 0], X[my_members, 1], col + '.')\n",
    "    plt.plot(cluster_center[0], cluster_center[1], 'o', markerfacecolor=col,\n",
    "             markeredgecolor='k', markersize=14)\n",
    "plt.title('Estimated number of clusters: %d' % n_clusters_)\n",
    "plt.show()"
   ]
  },
  {
   "cell_type": "code",
   "execution_count": null,
   "metadata": {
    "collapsed": true
   },
   "outputs": [],
   "source": []
  },
  {
   "cell_type": "code",
   "execution_count": null,
   "metadata": {
    "collapsed": true
   },
   "outputs": [],
   "source": []
  },
  {
   "cell_type": "code",
   "execution_count": null,
   "metadata": {
    "collapsed": true
   },
   "outputs": [],
   "source": []
  }
 ],
 "metadata": {
  "kernelspec": {
   "display_name": "Django Shell-Plus",
   "language": "python",
   "name": "django_extensions"
  },
  "language_info": {
   "codemirror_mode": {
    "name": "ipython",
    "version": 2
   },
   "file_extension": ".py",
   "mimetype": "text/x-python",
   "name": "python",
   "nbconvert_exporter": "python",
   "pygments_lexer": "ipython2",
   "version": "2.7.12"
  }
 },
 "nbformat": 4,
 "nbformat_minor": 0
}
