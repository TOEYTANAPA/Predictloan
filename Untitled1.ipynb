{
 "cells": [
  {
   "cell_type": "code",
   "execution_count": 114,
   "metadata": {
    "collapsed": false
   },
   "outputs": [
    {
     "data": {
      "text/html": [
       "<iframe id=\"igraph\" scrolling=\"no\" style=\"border:none;\" seamless=\"seamless\" src=\"https://plot.ly/~KanekiKen/2.embed\" height=\"380px\" width=\"100%\"></iframe>"
      ],
      "text/plain": [
       "<plotly.tools.PlotlyDisplay object>"
      ]
     },
     "execution_count": 114,
     "metadata": {},
     "output_type": "execute_result"
    }
   ],
   "source": [
    "import plotly.plotly as py\n",
    "from plotly.grid_objs import Grid, Column\n",
    "from plotly.tools import FigureFactory as FF \n",
    "\n",
    "import pandas as pd\n",
    "import time\n",
    "import plotly\n",
    "\n",
    "\n",
    "\n",
    "url = 'https://raw.githubusercontent.com/plotly/datasets/master/gapminderDataFiveYear.csv'\n",
    "df = pd.read_csv('train_loan.csv')\n",
    "\n",
    "table = FF.create_table(df.head(10))\n",
    "py.iplot(table, filename='Loan')"
   ]
  },
  {
   "cell_type": "code",
   "execution_count": 115,
   "metadata": {
    "collapsed": true
   },
   "outputs": [],
   "source": [
    "df=df.dropna()"
   ]
  },
  {
   "cell_type": "code",
   "execution_count": 116,
   "metadata": {
    "collapsed": false
   },
   "outputs": [],
   "source": [
    "code={'N':0,'Y':1}\n",
    "for k,i in df.iterrows():\n",
    "    if i['Loan_Status']==i['Loan_Status']:\n",
    "        df.loc[k,\"Loan_Status\"]=code[i['Loan_Status']]"
   ]
  },
  {
   "cell_type": "code",
   "execution_count": 117,
   "metadata": {
    "collapsed": true
   },
   "outputs": [],
   "source": [
    "code={'Female':0,'Male':1}\n",
    "for k,i in df.iterrows():\n",
    "    df.loc[k,\"Gender\"]=code[i['Gender']]"
   ]
  },
  {
   "cell_type": "code",
   "execution_count": 118,
   "metadata": {
    "collapsed": true
   },
   "outputs": [],
   "source": [
    "code={'No':0,'Yes':1}\n",
    "for k,i in df.iterrows():\n",
    "    df.loc[k,\"Self_Employed\"]=code[i['Self_Employed']]"
   ]
  },
  {
   "cell_type": "code",
   "execution_count": 119,
   "metadata": {
    "collapsed": true
   },
   "outputs": [],
   "source": [
    "code={'Not Graduate':0,'Graduate':1}\n",
    "for k,i in df.iterrows():\n",
    "    df.loc[k,\"Education\"]=code[i['Education']]"
   ]
  },
  {
   "cell_type": "code",
   "execution_count": 120,
   "metadata": {
    "collapsed": true
   },
   "outputs": [],
   "source": [
    "code={'No':0,'Yes':1}\n",
    "for k,i in df.iterrows():\n",
    "    df.loc[k,\"Married\"]=code[i['Married']]"
   ]
  },
  {
   "cell_type": "code",
   "execution_count": 121,
   "metadata": {
    "collapsed": true
   },
   "outputs": [],
   "source": [
    "code={'Urban':2,'Semiurban':1,'Rural':0}\n",
    "for k,i in df.iterrows():\n",
    "    df.loc[k,\"Property_Area\"]=code[i['Property_Area']]"
   ]
  },
  {
   "cell_type": "code",
   "execution_count": 122,
   "metadata": {
    "collapsed": true
   },
   "outputs": [],
   "source": [
    "df.loc[df.Dependents == '3+', ['Dependents']] = 3"
   ]
  },
  {
   "cell_type": "code",
   "execution_count": 123,
   "metadata": {
    "collapsed": true
   },
   "outputs": [],
   "source": [
    "df2=df.drop(['Loan_ID'],1)"
   ]
  },
  {
   "cell_type": "code",
   "execution_count": 124,
   "metadata": {
    "collapsed": false
   },
   "outputs": [
    {
     "data": {
      "text/html": [
       "<iframe id=\"igraph\" scrolling=\"no\" style=\"border:none;\" seamless=\"seamless\" src=\"https://plot.ly/~KanekiKen/2.embed\" height=\"380px\" width=\"100%\"></iframe>"
      ],
      "text/plain": [
       "<plotly.tools.PlotlyDisplay object>"
      ]
     },
     "execution_count": 124,
     "metadata": {},
     "output_type": "execute_result"
    }
   ],
   "source": [
    "table = FF.create_table(df2.head(10))\n",
    "py.iplot(table, filename='Loan')"
   ]
  },
  {
   "cell_type": "code",
   "execution_count": 195,
   "metadata": {
    "collapsed": true
   },
   "outputs": [],
   "source": [
    "import numpy as np\n",
    "from sklearn.cluster import DBSCAN\n",
    "\n",
    "A=df2.as_matrix([df2.columns[:]])\n",
    "X=df2.as_matrix([df2.columns[[6,7]]])\n",
    "# X[:,1]=np.log(X[:,1]+100)\n",
    "\n",
    "\n",
    "\n",
    "db = DBSCAN(eps=1.5, min_samples=100).fit(X)\n",
    "\n",
    "ax=plt.figure(figsize=(12,9))\n",
    "#plt.rcParams['figure.figsize'] = (12,9)\n",
    "plt.xlabel(\"Age\")\n",
    "plt.ylabel(\"log(Fare+1)\")\n",
    "plt.title(\"Titanic\")\n",
    "plt.yscale('log')\n",
    "color_list=['r','g','b','c','m','y','k']\n",
    "for i in xrange( -1,db.labels_.max()+1 ):\n",
    "    is_survive=(A[:,0]==1) & (db.labels_==i)\n",
    "    plt.scatter(X[is_survive,0], X[is_survive,1], marker='o',color=color_list[i])\n",
    "    \n",
    "    is_not_survive=(A[:,0]==0) & (db.labels_==i)\n",
    "    plt.scatter(X[is_not_survive,0], X[is_not_survive,1], marker='x',color=color_list[i])"
   ]
  },
  {
   "cell_type": "code",
   "execution_count": 188,
   "metadata": {
    "collapsed": false
   },
   "outputs": [
    {
     "name": "stdout",
     "output_type": "stream",
     "text": [
      "High five! You successfuly sent some data to your account on plotly. View your plot in your browser at https://plot.ly/~KanekiKen/0 or inside your plot.ly account where it is named 'styled-scatter'\n"
     ]
    },
    {
     "data": {
      "text/html": [
       "<iframe id=\"igraph\" scrolling=\"no\" style=\"border:none;\" seamless=\"seamless\" src=\"https://plot.ly/~KanekiKen/0.embed\" height=\"525px\" width=\"100%\"></iframe>"
      ],
      "text/plain": [
       "<plotly.tools.PlotlyDisplay object>"
      ]
     },
     "execution_count": 188,
     "metadata": {},
     "output_type": "execute_result"
    }
   ],
   "source": [
    "import plotly.plotly as py\n",
    "import plotly.graph_objs as go\n",
    "\n",
    "\n",
    "plotly.tools.set_credentials_file(username='KanekiKen', api_key='3qxShaK06DRCQ1qj0V1J')\n",
    "\n",
    "\n",
    "\n",
    "\n",
    "\n",
    "trace0 = go.Scatter(\n",
    "    x = df3['ApplicantIncome'],\n",
    "    y = df3['LoanAmount'],\n",
    "    name = 'Allow Loan',\n",
    "    mode = 'markers',\n",
    "    marker = dict(\n",
    "        size = 10,\n",
    "        color = 'rgba(53, 126, 130, .5)',\n",
    "        line = dict(\n",
    "            width = 2,\n",
    "            color = 'rgba(255, 255, 255, 1.0)'\n",
    "        )\n",
    "      \n",
    "    )\n",
    ")\n",
    "\n",
    "\n",
    "\n",
    "trace1 = go.Scatter(\n",
    "    x =df4['ApplicantIncome'],\n",
    "    y = df4['LoanAmount'],\n",
    "    name = 'Not Allow Loan',\n",
    "    mode = 'markers',\n",
    "    marker = dict(\n",
    "        size = 10,\n",
    "        color = 'rgba(152, 0, 0, .5)',\n",
    "       \n",
    "        line = dict(\n",
    "            width = 2,\n",
    "            color = 'rgba(255, 255, 255, 1.0)'\n",
    "        )\n",
    "    )\n",
    ")\n",
    "\n",
    "data = [trace0,trace1]\n",
    "\n",
    "\n",
    "layout = dict(\n",
    "    title='Allow Loan',\n",
    "    xaxis=dict(\n",
    "        title='เงินเดือน',\n",
    "        zeroline = False,\n",
    "    ),\n",
    "    yaxis=dict(\n",
    "        zeroline = False,\n",
    "                    title='จำนวนที่กู้เงิน',\n",
    "    ),\n",
    "    paper_bgcolor='rgb(243, 243, 243)',\n",
    "    plot_bgcolor='rgb(243, 243, 243)',\n",
    ")\n",
    "\n",
    "fig = dict(data=data, layout=layout)\n",
    "py.iplot(fig, filename='styled-scatter')"
   ]
  },
  {
   "cell_type": "code",
   "execution_count": null,
   "metadata": {
    "collapsed": true
   },
   "outputs": [],
   "source": []
  },
  {
   "cell_type": "code",
   "execution_count": null,
   "metadata": {
    "collapsed": true
   },
   "outputs": [],
   "source": []
  },
  {
   "cell_type": "code",
   "execution_count": 130,
   "metadata": {
    "collapsed": false
   },
   "outputs": [
    {
     "name": "stdout",
     "output_type": "stream",
     "text": [
      "High five! You successfuly sent some data to your account on plotly. View your plot in your browser at https://plot.ly/~KanekiKen/0 or inside your plot.ly account where it is named 'styled-scatter'\n"
     ]
    },
    {
     "data": {
      "text/html": [
       "<iframe id=\"igraph\" scrolling=\"no\" style=\"border:none;\" seamless=\"seamless\" src=\"https://plot.ly/~KanekiKen/0.embed\" height=\"525px\" width=\"100%\"></iframe>"
      ],
      "text/plain": [
       "<plotly.tools.PlotlyDisplay object>"
      ]
     },
     "execution_count": 130,
     "metadata": {},
     "output_type": "execute_result"
    }
   ],
   "source": [
    "trace0 = go.Scatter(\n",
    "    x =df3['Dependents'],\n",
    "    y = df3['ApplicantIncome'],\n",
    "    name = 'Allow Loan',\n",
    "    mode = 'markers',\n",
    "    marker = dict(\n",
    "        size = 15,\n",
    "        color = 'rgba(53, 126, 130, .5)',\n",
    "        line = dict(\n",
    "            width = 2,\n",
    "            color = 'rgba(255, 255, 255, 1.0)'\n",
    "        )\n",
    "      \n",
    "    )\n",
    ")\n",
    "\n",
    "\n",
    "\n",
    "trace1 = go.Scatter(\n",
    "    x =df4['Dependents'],\n",
    "    y = df4['ApplicantIncome'],\n",
    "    name = 'Not Allow Loan',\n",
    "    mode = 'markers',\n",
    "    marker = dict(\n",
    "        size = 15,\n",
    "        color = 'rgba(152, 0, 0, .5)',\n",
    "       \n",
    "        line = dict(\n",
    "            width = 2,\n",
    "            color = 'rgba(255, 255, 255, 1.0)'\n",
    "        )\n",
    "    )\n",
    ")\n",
    "\n",
    "data = [trace0,trace1]\n",
    "\n",
    "layout = dict(\n",
    "    title='Allow Loan',\n",
    "    xaxis=dict(\n",
    "        title='ผู้อุปการะ',\n",
    "        zeroline = False,\n",
    "    ),\n",
    "    yaxis=dict(\n",
    "        zeroline = False,\n",
    "        title='เงินเดือน',\n",
    "    ),\n",
    "    paper_bgcolor='rgb(243, 243, 243)',\n",
    "    plot_bgcolor='rgb(243, 243, 243)',\n",
    ")\n",
    "\n",
    "fig = dict(data=data, layout=layout)\n",
    "py.iplot(fig, filename='styled-scatter')"
   ]
  },
  {
   "cell_type": "code",
   "execution_count": 131,
   "metadata": {
    "collapsed": false
   },
   "outputs": [
    {
     "name": "stdout",
     "output_type": "stream",
     "text": [
      "High five! You successfuly sent some data to your account on plotly. View your plot in your browser at https://plot.ly/~KanekiKen/0 or inside your plot.ly account where it is named 'styled-scatter'\n"
     ]
    },
    {
     "data": {
      "text/html": [
       "<iframe id=\"igraph\" scrolling=\"no\" style=\"border:none;\" seamless=\"seamless\" src=\"https://plot.ly/~KanekiKen/0.embed\" height=\"525px\" width=\"100%\"></iframe>"
      ],
      "text/plain": [
       "<plotly.tools.PlotlyDisplay object>"
      ]
     },
     "execution_count": 131,
     "metadata": {},
     "output_type": "execute_result"
    }
   ],
   "source": [
    "trace0 = go.Scatter(\n",
    "    x =df3['CoapplicantIncome'],\n",
    "    y = df3['ApplicantIncome'],\n",
    "    name = 'Allow Loan',\n",
    "    mode = 'markers',\n",
    "    marker = dict(\n",
    "        size = 15,\n",
    "        color = 'rgba(53, 126, 130, .5)',\n",
    "        line = dict(\n",
    "            width = 2,\n",
    "            color = 'rgba(255, 255, 255, 1.0)'\n",
    "        )\n",
    "      \n",
    "    )\n",
    ")\n",
    "\n",
    "\n",
    "\n",
    "trace1 = go.Scatter(\n",
    "    x =df4['CoapplicantIncome'],\n",
    "    y = df4['ApplicantIncome'],\n",
    "    name = 'Not Allow Loan',\n",
    "    mode = 'markers',\n",
    "    marker = dict(\n",
    "        size = 15,\n",
    "        \n",
    "        color = 'rgba(152, 0, 0, .5)',\n",
    "        line = dict(\n",
    "            width = 2,\n",
    "            color = 'rgba(255, 255, 255, 1.0)'\n",
    "        )\n",
    "    )\n",
    ")\n",
    "\n",
    "data = [trace0,trace1]\n",
    "\n",
    "layout = dict(\n",
    "    title='Allow Loan',\n",
    "    xaxis=dict(\n",
    "        title='เงินเดือนผู้ค้ำประกัน',\n",
    "        zeroline = False,\n",
    "    ),\n",
    "    yaxis=dict(\n",
    "        zeroline = False,\n",
    "                    title='เงินเดือน',\n",
    "    ),\n",
    "    paper_bgcolor='rgb(243, 243, 243)',\n",
    "    plot_bgcolor='rgb(243, 243, 243)',\n",
    ")\n",
    "\n",
    "fig = dict(data=data, layout=layout)\n",
    "py.iplot(fig, filename='styled-scatter')"
   ]
  },
  {
   "cell_type": "code",
   "execution_count": 110,
   "metadata": {
    "collapsed": false
   },
   "outputs": [
    {
     "name": "stdout",
     "output_type": "stream",
     "text": [
      "High five! You successfuly sent some data to your account on plotly. View your plot in your browser at https://plot.ly/~KanekiKen/0 or inside your plot.ly account where it is named 'styled-scatter'\n"
     ]
    },
    {
     "data": {
      "text/html": [
       "<iframe id=\"igraph\" scrolling=\"no\" style=\"border:none;\" seamless=\"seamless\" src=\"https://plot.ly/~KanekiKen/0.embed\" height=\"525px\" width=\"100%\"></iframe>"
      ],
      "text/plain": [
       "<plotly.tools.PlotlyDisplay object>"
      ]
     },
     "execution_count": 110,
     "metadata": {},
     "output_type": "execute_result"
    }
   ],
   "source": [
    "trace0 = go.Scatter(\n",
    "    x = df3['Credit_History'],\n",
    "    y = df3['ApplicantIncome'],\n",
    "    name = 'Allow Loan',\n",
    "    mode = 'markers',\n",
    "    marker = dict(\n",
    "        size = 15,\n",
    "        color = 'rgba(53, 126, 130, .5)',\n",
    "        line = dict(\n",
    "            width = 2,\n",
    "            color = 'rgba(255, 255, 255, 1.0)'\n",
    "        )\n",
    "      \n",
    "    )\n",
    ")\n",
    "\n",
    "\n",
    "\n",
    "trace1 = go.Scatter(\n",
    "    x = df4['Credit_History'],\n",
    "    y = df4['ApplicantIncome'],\n",
    "    name = 'Not Allow Loan',\n",
    "    mode = 'markers',\n",
    "    marker = dict(\n",
    "        size = 15,\n",
    "        \n",
    "        color = 'rgba(152, 0, 0, .5)',\n",
    "        line = dict(\n",
    "            width = 2,\n",
    "            color = 'rgba(255, 255, 255, 1.0)'\n",
    "        )\n",
    "    )\n",
    ")\n",
    "\n",
    "data = [trace0,trace1]\n",
    "\n",
    "layout = dict(\n",
    "    title='Allow Loan',\n",
    "    xaxis=dict(\n",
    "        title='ประวัติเครดิต',\n",
    "        zeroline = False,\n",
    "    ),\n",
    "    yaxis=dict(\n",
    "        zeroline = False,\n",
    "                    title='เงินเดือน',\n",
    "    ),\n",
    "    paper_bgcolor='rgb(243, 243, 243)',\n",
    "    plot_bgcolor='rgb(243, 243, 243)',\n",
    ")\n",
    "\n",
    "fig = dict(data=data, layout=layout)\n",
    "py.iplot(fig, filename='styled-scatter')"
   ]
  },
  {
   "cell_type": "code",
   "execution_count": 132,
   "metadata": {
    "collapsed": false
   },
   "outputs": [
    {
     "name": "stdout",
     "output_type": "stream",
     "text": [
      "High five! You successfuly sent some data to your account on plotly. View your plot in your browser at https://plot.ly/~KanekiKen/0 or inside your plot.ly account where it is named 'styled-scatter'\n"
     ]
    },
    {
     "data": {
      "text/html": [
       "<iframe id=\"igraph\" scrolling=\"no\" style=\"border:none;\" seamless=\"seamless\" src=\"https://plot.ly/~KanekiKen/0.embed\" height=\"525px\" width=\"100%\"></iframe>"
      ],
      "text/plain": [
       "<plotly.tools.PlotlyDisplay object>"
      ]
     },
     "execution_count": 132,
     "metadata": {},
     "output_type": "execute_result"
    }
   ],
   "source": [
    "trace0 = go.Scatter(\n",
    "    x = df3['Married'],\n",
    "    y = df3['ApplicantIncome'],\n",
    "    name = 'Allow Loan',\n",
    "    mode = 'markers',\n",
    "    marker = dict(\n",
    "        size = 15,\n",
    "        color = 'rgba(53, 126, 130, .5)',\n",
    "        line = dict(\n",
    "            width = 2,\n",
    "            color = 'rgba(255, 255, 255, 1.0)'\n",
    "        )\n",
    "      \n",
    "    )\n",
    ")\n",
    "\n",
    "\n",
    "\n",
    "trace1 = go.Scatter(\n",
    "    x = df4['Married'],\n",
    "    y = df4['ApplicantIncome'],\n",
    "    name = 'Not Allow Loan',\n",
    "    mode = 'markers',\n",
    "    marker = dict(\n",
    "        size = 15,\n",
    "        \n",
    "        color = 'rgba(152, 0, 0, .5)',\n",
    "        line = dict(\n",
    "            width = 2,\n",
    "            color = 'rgba(255, 255, 255, 1.0)'\n",
    "        )\n",
    "    )\n",
    ")\n",
    "\n",
    "data = [trace0,trace1]\n",
    "\n",
    "layout = dict(\n",
    "    title='Allow Loan',\n",
    "    xaxis=dict(\n",
    "        title='แต่งงาน',\n",
    "        zeroline = False,\n",
    "    ),\n",
    "    yaxis=dict(\n",
    "        zeroline = False,\n",
    "                    title='เงินเดือน',\n",
    "    ),\n",
    "    paper_bgcolor='rgb(243, 243, 243)',\n",
    "    plot_bgcolor='rgb(243, 243, 243)',\n",
    ")\n",
    "\n",
    "fig = dict(data=data, layout=layout)\n",
    "py.iplot(fig, filename='styled-scatter')"
   ]
  },
  {
   "cell_type": "code",
   "execution_count": 134,
   "metadata": {
    "collapsed": false
   },
   "outputs": [
    {
     "name": "stdout",
     "output_type": "stream",
     "text": [
      "High five! You successfuly sent some data to your account on plotly. View your plot in your browser at https://plot.ly/~KanekiKen/0 or inside your plot.ly account where it is named 'styled-scatter'\n"
     ]
    },
    {
     "data": {
      "text/html": [
       "<iframe id=\"igraph\" scrolling=\"no\" style=\"border:none;\" seamless=\"seamless\" src=\"https://plot.ly/~KanekiKen/0.embed\" height=\"525px\" width=\"100%\"></iframe>"
      ],
      "text/plain": [
       "<plotly.tools.PlotlyDisplay object>"
      ]
     },
     "execution_count": 134,
     "metadata": {},
     "output_type": "execute_result"
    }
   ],
   "source": [
    "trace0 = go.Scatter(\n",
    "    x = df3['Self_Employed'],\n",
    "    y = df3['ApplicantIncome'],\n",
    "    name = 'Allow Loan',\n",
    "    mode = 'markers',\n",
    "    marker = dict(\n",
    "        size = 15,\n",
    "        color = 'rgba(53, 126, 130, .5)',\n",
    "        line = dict(\n",
    "            width = 2,\n",
    "            color = 'rgba(255, 255, 255, 1.0)'\n",
    "        )\n",
    "      \n",
    "    )\n",
    ")\n",
    "\n",
    "\n",
    "\n",
    "trace1 = go.Scatter(\n",
    "    x = df4['Self_Employed'],\n",
    "    y = df4['ApplicantIncome'],\n",
    "    name = 'Not Allow Loan',\n",
    "    mode = 'markers',\n",
    "    marker = dict(\n",
    "        size = 15,\n",
    "        \n",
    "        color = 'rgba(152, 0, 0, .5)',\n",
    "        line = dict(\n",
    "            width = 2,\n",
    "            color = 'rgba(255, 255, 255, 1.0)'\n",
    "        )\n",
    "    )\n",
    ")\n",
    "\n",
    "data = [trace0,trace1]\n",
    "\n",
    "layout = dict(\n",
    "    title='Allow Loan',\n",
    "    xaxis=dict(\n",
    "        title='ธุรกิจส่วนตัว',\n",
    "        zeroline = False,\n",
    "    ),\n",
    "    yaxis=dict(\n",
    "        zeroline = False,\n",
    "                    title='เงินเดือน',\n",
    "    ),\n",
    "    paper_bgcolor='rgb(243, 243, 243)',\n",
    "    plot_bgcolor='rgb(243, 243, 243)',\n",
    ")\n",
    "\n",
    "fig = dict(data=data, layout=layout)\n",
    "py.iplot(fig, filename='styled-scatter')"
   ]
  },
  {
   "cell_type": "code",
   "execution_count": 135,
   "metadata": {
    "collapsed": false
   },
   "outputs": [
    {
     "name": "stdout",
     "output_type": "stream",
     "text": [
      "High five! You successfuly sent some data to your account on plotly. View your plot in your browser at https://plot.ly/~KanekiKen/0 or inside your plot.ly account where it is named 'styled-scatter'\n"
     ]
    },
    {
     "data": {
      "text/html": [
       "<iframe id=\"igraph\" scrolling=\"no\" style=\"border:none;\" seamless=\"seamless\" src=\"https://plot.ly/~KanekiKen/0.embed\" height=\"525px\" width=\"100%\"></iframe>"
      ],
      "text/plain": [
       "<plotly.tools.PlotlyDisplay object>"
      ]
     },
     "execution_count": 135,
     "metadata": {},
     "output_type": "execute_result"
    }
   ],
   "source": [
    "trace0 = go.Scatter(\n",
    "    x = df3['Loan_Amount_Term'],\n",
    "    y = df3['ApplicantIncome'],\n",
    "    name = 'Allow Loan',\n",
    "    mode = 'markers',\n",
    "    marker = dict(\n",
    "        size = 15,\n",
    "        color = 'rgba(53, 126, 130, .5)',\n",
    "        line = dict(\n",
    "            width = 2,\n",
    "            color = 'rgba(255, 255, 255, 1.0)'\n",
    "        )\n",
    "      \n",
    "    )\n",
    ")\n",
    "\n",
    "\n",
    "\n",
    "trace1 = go.Scatter(\n",
    "    x = df4['Loan_Amount_Term'],\n",
    "    y = df4['ApplicantIncome'],\n",
    "    name = 'Not Allow Loan',\n",
    "    mode = 'markers',\n",
    "    marker = dict(\n",
    "        size = 15,\n",
    "        \n",
    "        color = 'rgba(152, 0, 0, .5)',\n",
    "        line = dict(\n",
    "            width = 2,\n",
    "            color = 'rgba(255, 255, 255, 1.0)'\n",
    "        )\n",
    "    )\n",
    ")\n",
    "\n",
    "data = [trace0,trace1]\n",
    "\n",
    "layout = dict(\n",
    "    title='Allow Loan',\n",
    "    xaxis=dict(\n",
    "        title='เงินกู้ที่ต้องจ่ายต่อเดือน',\n",
    "        zeroline = False,\n",
    "    ),\n",
    "    yaxis=dict(\n",
    "        zeroline = False,\n",
    "                    title='เงินเดือน',\n",
    "    ),\n",
    "    paper_bgcolor='rgb(243, 243, 243)',\n",
    "    plot_bgcolor='rgb(243, 243, 243)',\n",
    ")\n",
    "\n",
    "fig = dict(data=data, layout=layout)\n",
    "py.iplot(fig, filename='styled-scatter')"
   ]
  },
  {
   "cell_type": "code",
   "execution_count": 136,
   "metadata": {
    "collapsed": false
   },
   "outputs": [
    {
     "name": "stdout",
     "output_type": "stream",
     "text": [
      "High five! You successfuly sent some data to your account on plotly. View your plot in your browser at https://plot.ly/~KanekiKen/0 or inside your plot.ly account where it is named 'styled-scatter'\n"
     ]
    },
    {
     "data": {
      "text/html": [
       "<iframe id=\"igraph\" scrolling=\"no\" style=\"border:none;\" seamless=\"seamless\" src=\"https://plot.ly/~KanekiKen/0.embed\" height=\"525px\" width=\"100%\"></iframe>"
      ],
      "text/plain": [
       "<plotly.tools.PlotlyDisplay object>"
      ]
     },
     "execution_count": 136,
     "metadata": {},
     "output_type": "execute_result"
    }
   ],
   "source": [
    "trace0 = go.Scatter(\n",
    "    x = df3['Property_Area'],\n",
    "    y = df3['ApplicantIncome'],\n",
    "    name = 'Allow Loan',\n",
    "    mode = 'markers',\n",
    "    marker = dict(\n",
    "        size = 15,\n",
    "        color = 'rgba(53, 126, 130, .5)',\n",
    "        line = dict(\n",
    "            width = 2,\n",
    "            color = 'rgba(255, 255, 255, 1.0)'\n",
    "        )\n",
    "      \n",
    "    )\n",
    ")\n",
    "\n",
    "\n",
    "\n",
    "trace1 = go.Scatter(\n",
    "    x = df4['Property_Area'],\n",
    "    y = df4['ApplicantIncome'],\n",
    "    name = 'Not Allow Loan',\n",
    "    mode = 'markers',\n",
    "    marker = dict(\n",
    "        size = 15,\n",
    "        \n",
    "        color = 'rgba(152, 0, 0, .5)',\n",
    "        line = dict(\n",
    "            width = 2,\n",
    "            color = 'rgba(255, 255, 255, 1.0)'\n",
    "        )\n",
    "    )\n",
    ")\n",
    "\n",
    "data = [trace0,trace1]\n",
    "\n",
    "layout = dict(\n",
    "    title='Allow Loan',\n",
    "    xaxis=dict(\n",
    "        title='ที่อยู่',\n",
    "        zeroline = False,\n",
    "    ),\n",
    "    yaxis=dict(\n",
    "        zeroline = False,\n",
    "                    title='เงินเดือน',\n",
    "    ),\n",
    "    paper_bgcolor='rgb(243, 243, 243)',\n",
    "    plot_bgcolor='rgb(243, 243, 243)',\n",
    ")\n",
    "\n",
    "fig = dict(data=data, layout=layout)\n",
    "py.iplot(fig, filename='styled-scatter')"
   ]
  },
  {
   "cell_type": "code",
   "execution_count": null,
   "metadata": {
    "collapsed": true
   },
   "outputs": [],
   "source": [
    "trace0 = go.Scatter(\n",
    "    x = df3['Property_Area'],\n",
    "    y = df3['ApplicantIncome'],\n",
    "    name = 'Allow Loan',\n",
    "    mode = 'markers',\n",
    "    marker = dict(\n",
    "        size = 15,\n",
    "        color = 'rgba(53, 126, 130, .5)',\n",
    "        line = dict(\n",
    "            width = 2,\n",
    "            color = 'rgba(255, 255, 255, 1.0)'\n",
    "        )\n",
    "      \n",
    "    )\n",
    ")\n",
    "\n",
    "\n",
    "\n",
    "trace1 = go.Scatter(\n",
    "    x = df4['Property_Area'],\n",
    "    y = df4['ApplicantIncome'],\n",
    "    name = 'Not Allow Loan',\n",
    "    mode = 'markers',\n",
    "    marker = dict(\n",
    "        size = 15,\n",
    "        \n",
    "        color = 'rgba(152, 0, 0, .5)',\n",
    "        line = dict(\n",
    "            width = 2,\n",
    "            color = 'rgba(255, 255, 255, 1.0)'\n",
    "        )\n",
    "    )\n",
    ")\n",
    "\n",
    "data = [trace0,trace1]\n",
    "\n",
    "layout = dict(\n",
    "    title='Allow Loan',\n",
    "    xaxis=dict(\n",
    "        title='ที่อยู่',\n",
    "        zeroline = False,\n",
    "    ),\n",
    "    yaxis=dict(\n",
    "        zeroline = False,\n",
    "                    title='เงินเดือน',\n",
    "    ),\n",
    "    paper_bgcolor='rgb(243, 243, 243)',\n",
    "    plot_bgcolor='rgb(243, 243, 243)',\n",
    ")\n",
    "\n",
    "fig = dict(data=data, layout=layout)\n",
    "py.iplot(fig, filename='styled-scatter')"
   ]
  },
  {
   "cell_type": "code",
   "execution_count": 137,
   "metadata": {
    "collapsed": false
   },
   "outputs": [
    {
     "name": "stdout",
     "output_type": "stream",
     "text": [
      "High five! You successfuly sent some data to your account on plotly. View your plot in your browser at https://plot.ly/~KanekiKen/0 or inside your plot.ly account where it is named 'styled-scatter'\n"
     ]
    },
    {
     "data": {
      "text/html": [
       "<iframe id=\"igraph\" scrolling=\"no\" style=\"border:none;\" seamless=\"seamless\" src=\"https://plot.ly/~KanekiKen/0.embed\" height=\"525px\" width=\"100%\"></iframe>"
      ],
      "text/plain": [
       "<plotly.tools.PlotlyDisplay object>"
      ]
     },
     "execution_count": 137,
     "metadata": {},
     "output_type": "execute_result"
    }
   ],
   "source": [
    "trace0 = go.Scatter(\n",
    "    x = df3['Property_Area'],\n",
    "    y = df3['LoanAmount'],\n",
    "    name = 'Allow Loan',\n",
    "    mode = 'markers',\n",
    "    marker = dict(\n",
    "        size = 15,\n",
    "        color = 'rgba(53, 126, 130, .5)',\n",
    "        line = dict(\n",
    "            width = 2,\n",
    "            color = 'rgba(255, 255, 255, 1.0)'\n",
    "        )\n",
    "      \n",
    "    )\n",
    ")\n",
    "\n",
    "\n",
    "\n",
    "trace1 = go.Scatter(\n",
    "    x = df4['Property_Area'],\n",
    "    y = df4['LoanAmount'],\n",
    "    name = 'Not Allow Loan',\n",
    "    mode = 'markers',\n",
    "    marker = dict(\n",
    "        size = 15,\n",
    "        \n",
    "        color = 'rgba(152, 0, 0, .5)',\n",
    "        line = dict(\n",
    "            width = 2,\n",
    "            color = 'rgba(255, 255, 255, 1.0)'\n",
    "        )\n",
    "    )\n",
    ")\n",
    "\n",
    "data = [trace0,trace1]\n",
    "\n",
    "layout = dict(\n",
    "    title='Allow Loan',\n",
    "    xaxis=dict(\n",
    "        title='ที่อยู่',\n",
    "        zeroline = False,\n",
    "    ),\n",
    "    yaxis=dict(\n",
    "        zeroline = False,\n",
    "                    title='เงินกู้',\n",
    "    ),\n",
    "    paper_bgcolor='rgb(243, 243, 243)',\n",
    "    plot_bgcolor='rgb(243, 243, 243)',\n",
    ")\n",
    "\n",
    "fig = dict(data=data, layout=layout)\n",
    "py.iplot(fig, filename='styled-scatter')"
   ]
  },
  {
   "cell_type": "code",
   "execution_count": 138,
   "metadata": {
    "collapsed": false
   },
   "outputs": [
    {
     "name": "stdout",
     "output_type": "stream",
     "text": [
      "High five! You successfuly sent some data to your account on plotly. View your plot in your browser at https://plot.ly/~KanekiKen/0 or inside your plot.ly account where it is named 'styled-scatter'\n"
     ]
    },
    {
     "data": {
      "text/html": [
       "<iframe id=\"igraph\" scrolling=\"no\" style=\"border:none;\" seamless=\"seamless\" src=\"https://plot.ly/~KanekiKen/0.embed\" height=\"525px\" width=\"100%\"></iframe>"
      ],
      "text/plain": [
       "<plotly.tools.PlotlyDisplay object>"
      ]
     },
     "execution_count": 138,
     "metadata": {},
     "output_type": "execute_result"
    }
   ],
   "source": [
    "trace0 = go.Scatter(\n",
    "    x = df3['CoapplicantIncome'],\n",
    "    y = df3['LoanAmount'],\n",
    "    name = 'Allow Loan',\n",
    "    mode = 'markers',\n",
    "    marker = dict(\n",
    "        size = 15,\n",
    "        color = 'rgba(53, 126, 130, .5)',\n",
    "        line = dict(\n",
    "            width = 2,\n",
    "            color = 'rgba(255, 255, 255, 1.0)'\n",
    "        )\n",
    "      \n",
    "    )\n",
    ")\n",
    "\n",
    "\n",
    "\n",
    "trace1 = go.Scatter(\n",
    "    x = df4['CoapplicantIncome'],\n",
    "    y = df4['LoanAmount'],\n",
    "    name = 'Not Allow Loan',\n",
    "    mode = 'markers',\n",
    "    marker = dict(\n",
    "        size = 15,\n",
    "        \n",
    "        color = 'rgba(152, 0, 0, .5)',\n",
    "        line = dict(\n",
    "            width = 2,\n",
    "            color = 'rgba(255, 255, 255, 1.0)'\n",
    "        )\n",
    "    )\n",
    ")\n",
    "\n",
    "data = [trace0,trace1]\n",
    "\n",
    "layout = dict(\n",
    "    title='Allow Loan',\n",
    "    xaxis=dict(\n",
    "        title='เงินเดือนผู้ค้ำประกัน',\n",
    "        zeroline = False,\n",
    "    ),\n",
    "    yaxis=dict(\n",
    "        zeroline = False,\n",
    "                    title='เงินกู้',\n",
    "    ),\n",
    "    paper_bgcolor='rgb(243, 243, 243)',\n",
    "    plot_bgcolor='rgb(243, 243, 243)',\n",
    ")\n",
    "\n",
    "fig = dict(data=data, layout=layout)\n",
    "py.iplot(fig, filename='styled-scatter')"
   ]
  },
  {
   "cell_type": "code",
   "execution_count": 139,
   "metadata": {
    "collapsed": false
   },
   "outputs": [
    {
     "name": "stdout",
     "output_type": "stream",
     "text": [
      "High five! You successfuly sent some data to your account on plotly. View your plot in your browser at https://plot.ly/~KanekiKen/0 or inside your plot.ly account where it is named 'styled-scatter'\n"
     ]
    },
    {
     "data": {
      "text/html": [
       "<iframe id=\"igraph\" scrolling=\"no\" style=\"border:none;\" seamless=\"seamless\" src=\"https://plot.ly/~KanekiKen/0.embed\" height=\"525px\" width=\"100%\"></iframe>"
      ],
      "text/plain": [
       "<plotly.tools.PlotlyDisplay object>"
      ]
     },
     "execution_count": 139,
     "metadata": {},
     "output_type": "execute_result"
    }
   ],
   "source": [
    "trace0 = go.Scatter(\n",
    "    x = df3['Married'],\n",
    "    y = df3['LoanAmount'],\n",
    "    name = 'Allow Loan',\n",
    "    mode = 'markers',\n",
    "    marker = dict(\n",
    "        size = 15,\n",
    "        color = 'rgba(53, 126, 130, .5)',\n",
    "        line = dict(\n",
    "            width = 2,\n",
    "            color = 'rgba(255, 255, 255, 1.0)'\n",
    "        )\n",
    "      \n",
    "    )\n",
    ")\n",
    "\n",
    "\n",
    "\n",
    "trace1 = go.Scatter(\n",
    "    x = df4['Married'],\n",
    "    y = df4['LoanAmount'],\n",
    "    name = 'Not Allow Loan',\n",
    "    mode = 'markers',\n",
    "    marker = dict(\n",
    "        size = 15,\n",
    "        \n",
    "        color = 'rgba(152, 0, 0, .5)',\n",
    "        line = dict(\n",
    "            width = 2,\n",
    "            color = 'rgba(255, 255, 255, 1.0)'\n",
    "        )\n",
    "    )\n",
    ")\n",
    "\n",
    "data = [trace0,trace1]\n",
    "\n",
    "layout = dict(\n",
    "    title='Allow Loan',\n",
    "    xaxis=dict(\n",
    "        title='แต่งงาน',\n",
    "        zeroline = False,\n",
    "    ),\n",
    "    yaxis=dict(\n",
    "        zeroline = False,\n",
    "                    title='เงินกู้',\n",
    "    ),\n",
    "    paper_bgcolor='rgb(243, 243, 243)',\n",
    "    plot_bgcolor='rgb(243, 243, 243)',\n",
    ")\n",
    "\n",
    "fig = dict(data=data, layout=layout)\n",
    "py.iplot(fig, filename='styled-scatter')"
   ]
  },
  {
   "cell_type": "code",
   "execution_count": 140,
   "metadata": {
    "collapsed": false
   },
   "outputs": [
    {
     "name": "stdout",
     "output_type": "stream",
     "text": [
      "High five! You successfuly sent some data to your account on plotly. View your plot in your browser at https://plot.ly/~KanekiKen/0 or inside your plot.ly account where it is named 'styled-scatter'\n"
     ]
    },
    {
     "data": {
      "text/html": [
       "<iframe id=\"igraph\" scrolling=\"no\" style=\"border:none;\" seamless=\"seamless\" src=\"https://plot.ly/~KanekiKen/0.embed\" height=\"525px\" width=\"100%\"></iframe>"
      ],
      "text/plain": [
       "<plotly.tools.PlotlyDisplay object>"
      ]
     },
     "execution_count": 140,
     "metadata": {},
     "output_type": "execute_result"
    }
   ],
   "source": [
    "trace0 = go.Scatter(\n",
    "    x = df3['Self_Employed'],\n",
    "    y = df3['LoanAmount'],\n",
    "    name = 'Allow Loan',\n",
    "    mode = 'markers',\n",
    "    marker = dict(\n",
    "        size = 15,\n",
    "        color = 'rgba(53, 126, 130, .5)',\n",
    "        line = dict(\n",
    "            width = 2,\n",
    "            color = 'rgba(255, 255, 255, 1.0)'\n",
    "        )\n",
    "      \n",
    "    )\n",
    ")\n",
    "\n",
    "\n",
    "\n",
    "trace1 = go.Scatter(\n",
    "    x = df4['Self_Employed'],\n",
    "    y = df4['LoanAmount'],\n",
    "    name = 'Not Allow Loan',\n",
    "    mode = 'markers',\n",
    "    marker = dict(\n",
    "        size = 15,\n",
    "        \n",
    "        color = 'rgba(152, 0, 0, .5)',\n",
    "        line = dict(\n",
    "            width = 2,\n",
    "            color = 'rgba(255, 255, 255, 1.0)'\n",
    "        )\n",
    "    )\n",
    ")\n",
    "\n",
    "data = [trace0,trace1]\n",
    "\n",
    "layout = dict(\n",
    "    title='Allow Loan',\n",
    "    xaxis=dict(\n",
    "        title='ธุรกิจส่วนตัว',\n",
    "        zeroline = False,\n",
    "    ),\n",
    "    yaxis=dict(\n",
    "        zeroline = False,\n",
    "                    title='เงินกู้',\n",
    "    ),\n",
    "    paper_bgcolor='rgb(243, 243, 243)',\n",
    "    plot_bgcolor='rgb(243, 243, 243)',\n",
    ")\n",
    "\n",
    "fig = dict(data=data, layout=layout)\n",
    "py.iplot(fig, filename='styled-scatter')"
   ]
  },
  {
   "cell_type": "markdown",
   "metadata": {},
   "source": [
    "#Training"
   ]
  },
  {
   "cell_type": "code",
   "execution_count": 239,
   "metadata": {
    "collapsed": false
   },
   "outputs": [
    {
     "data": {
      "text/plain": [
       "Index([u'Gender', u'Married', u'Dependents', u'Education', u'Self_Employed', u'ApplicantIncome', u'CoapplicantIncome', u'LoanAmount', u'Loan_Amount_Term', u'Credit_History', u'Property_Area'], dtype='object')"
      ]
     },
     "execution_count": 239,
     "metadata": {},
     "output_type": "execute_result"
    }
   ],
   "source": [
    "df2.columns[:11]"
   ]
  },
  {
   "cell_type": "code",
   "execution_count": 227,
   "metadata": {
    "collapsed": true
   },
   "outputs": [],
   "source": [
    "X=df2.as_matrix([df2.columns[:11]])"
   ]
  },
  {
   "cell_type": "code",
   "execution_count": 215,
   "metadata": {
    "collapsed": false
   },
   "outputs": [],
   "source": [
    "y=df2.as_matrix([\"Loan_Status\"])"
   ]
  },
  {
   "cell_type": "code",
   "execution_count": 216,
   "metadata": {
    "collapsed": false
   },
   "outputs": [
    {
     "data": {
      "text/plain": [
       "(480L, 1L)"
      ]
     },
     "execution_count": 216,
     "metadata": {},
     "output_type": "execute_result"
    }
   ],
   "source": [
    "y.shape"
   ]
  },
  {
   "cell_type": "code",
   "execution_count": 217,
   "metadata": {
    "collapsed": true
   },
   "outputs": [],
   "source": [
    "y=y.reshape(-1)"
   ]
  },
  {
   "cell_type": "code",
   "execution_count": 218,
   "metadata": {
    "collapsed": false
   },
   "outputs": [
    {
     "data": {
      "text/plain": [
       "(480L,)"
      ]
     },
     "execution_count": 218,
     "metadata": {},
     "output_type": "execute_result"
    }
   ],
   "source": [
    "y.shape"
   ]
  },
  {
   "cell_type": "code",
   "execution_count": 219,
   "metadata": {
    "collapsed": false
   },
   "outputs": [
    {
     "data": {
      "text/plain": [
       "(480L, 11L)"
      ]
     },
     "execution_count": 219,
     "metadata": {},
     "output_type": "execute_result"
    }
   ],
   "source": [
    "X.shape"
   ]
  },
  {
   "cell_type": "code",
   "execution_count": 233,
   "metadata": {
    "collapsed": true
   },
   "outputs": [],
   "source": [
    "Y_train = np.asarray(df['Loan_Status'], dtype=\"|S6\")"
   ]
  },
  {
   "cell_type": "code",
   "execution_count": 234,
   "metadata": {
    "collapsed": false
   },
   "outputs": [],
   "source": [
    "from sklearn.ensemble import ExtraTreesClassifier\n",
    "from sklearn.cross_validation import cross_val_score"
   ]
  },
  {
   "cell_type": "code",
   "execution_count": 235,
   "metadata": {
    "collapsed": false
   },
   "outputs": [],
   "source": [
    "forest = ExtraTreesClassifier(n_estimators=10,random_state=0)"
   ]
  },
  {
   "cell_type": "code",
   "execution_count": 236,
   "metadata": {
    "collapsed": false
   },
   "outputs": [
    {
     "data": {
      "text/plain": [
       "array([ 0.77018634,  0.75625   ,  0.69811321])"
      ]
     },
     "execution_count": 236,
     "metadata": {},
     "output_type": "execute_result"
    }
   ],
   "source": [
    "cross_val_score(forest, X, Y_train)"
   ]
  },
  {
   "cell_type": "code",
   "execution_count": 237,
   "metadata": {
    "collapsed": false
   },
   "outputs": [
    {
     "data": {
      "text/plain": [
       "ExtraTreesClassifier(bootstrap=False, class_weight=None, criterion='gini',\n",
       "           max_depth=None, max_features='auto', max_leaf_nodes=None,\n",
       "           min_impurity_split=1e-07, min_samples_leaf=1,\n",
       "           min_samples_split=2, min_weight_fraction_leaf=0.0,\n",
       "           n_estimators=10, n_jobs=1, oob_score=False, random_state=0,\n",
       "           verbose=0, warm_start=False)"
      ]
     },
     "execution_count": 237,
     "metadata": {},
     "output_type": "execute_result"
    }
   ],
   "source": [
    "forest.fit(X,Y_train)"
   ]
  },
  {
   "cell_type": "code",
   "execution_count": 240,
   "metadata": {
    "collapsed": false
   },
   "outputs": [
    {
     "name": "stderr",
     "output_type": "stream",
     "text": [
      "C:\\Users\\ta\\Anaconda\\lib\\site-packages\\sklearn\\utils\\validation.py:395: DeprecationWarning:\n",
      "\n",
      "Passing 1d arrays as data is deprecated in 0.17 and will raise ValueError in 0.19. Reshape your data either using X.reshape(-1, 1) if your data has a single feature or X.reshape(1, -1) if it contains a single sample.\n",
      "\n"
     ]
    },
    {
     "data": {
      "text/plain": [
       "array(['1'], \n",
       "      dtype='|S6')"
      ]
     },
     "execution_count": 240,
     "metadata": {},
     "output_type": "execute_result"
    }
   ],
   "source": [
    "forest.predict([1,1,0,1,0,5720,0,110,360,1,0])"
   ]
  },
  {
   "cell_type": "code",
   "execution_count": null,
   "metadata": {
    "collapsed": true
   },
   "outputs": [],
   "source": []
  },
  {
   "cell_type": "code",
   "execution_count": null,
   "metadata": {
    "collapsed": true
   },
   "outputs": [],
   "source": []
  },
  {
   "cell_type": "code",
   "execution_count": 224,
   "metadata": {
    "collapsed": false
   },
   "outputs": [
    {
     "name": "stdout",
     "output_type": "stream",
     "text": [
      "number of estimated clusters : 4\n"
     ]
    }
   ],
   "source": [
    "import numpy as np\n",
    "from sklearn.cluster import MeanShift, estimate_bandwidth\n",
    "from sklearn.datasets.samples_generator import make_blobs\n",
    "\n",
    "centers = [[1, 1], [-1, -1], [1, -1]]\n",
    "# X, _ = make_blobs(n_samples=165, centers=centers, cluster_std=0.6)\n",
    "\n",
    "# The following bandwidth can be automatically detected using\n",
    "bandwidth = estimate_bandwidth(X, quantile=0.2, n_samples=165)\n",
    "\n",
    "ms = MeanShift(bandwidth=bandwidth, bin_seeding=True)\n",
    "ms.fit(X)\n",
    "labels = ms.labels_\n",
    "cluster_centers = ms.cluster_centers_\n",
    "\n",
    "labels_unique = np.unique(labels)\n",
    "n_clusters_ = len(labels_unique)\n",
    "\n",
    "print(\"number of estimated clusters : %d\" % n_clusters_)"
   ]
  },
  {
   "cell_type": "code",
   "execution_count": 225,
   "metadata": {
    "collapsed": true
   },
   "outputs": [],
   "source": [
    "import matplotlib.pyplot as plt\n",
    "from itertools import cycle\n",
    "\n",
    "plt.figure(1)\n",
    "plt.clf()\n",
    "\n",
    "colors = cycle('bgrcmykbgrcmykbgrcmykbgrcmyk')\n",
    "for k, col in zip(range(n_clusters_), colors):\n",
    "    my_members = labels == k\n",
    "    cluster_center = cluster_centers[k]\n",
    "    plt.plot(X[my_members, 0], X[my_members, 1], col + '.')\n",
    "    plt.plot(cluster_center[0], cluster_center[1], 'o', markerfacecolor=col,\n",
    "             markeredgecolor='k', markersize=14)\n",
    "plt.title('Estimated number of clusters: %d' % n_clusters_)\n",
    "plt.show()"
   ]
  },
  {
   "cell_type": "code",
   "execution_count": null,
   "metadata": {
    "collapsed": true
   },
   "outputs": [],
   "source": []
  },
  {
   "cell_type": "code",
   "execution_count": null,
   "metadata": {
    "collapsed": true
   },
   "outputs": [],
   "source": []
  },
  {
   "cell_type": "code",
   "execution_count": null,
   "metadata": {
    "collapsed": true
   },
   "outputs": [],
   "source": []
  }
 ],
 "metadata": {
  "kernelspec": {
   "display_name": "Django Shell-Plus",
   "language": "python",
   "name": "django_extensions"
  },
  "language_info": {
   "codemirror_mode": {
    "name": "ipython",
    "version": 2
   },
   "file_extension": ".py",
   "mimetype": "text/x-python",
   "name": "python",
   "nbconvert_exporter": "python",
   "pygments_lexer": "ipython2",
   "version": "2.7.12"
  }
 },
 "nbformat": 4,
 "nbformat_minor": 0
}
